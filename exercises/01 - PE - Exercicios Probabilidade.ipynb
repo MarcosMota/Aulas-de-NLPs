{
 "cells": [
  {
   "cell_type": "markdown",
   "metadata": {},
   "source": [
    "# Exercícios de Probabilidade\n",
    "\n",
    "__Conceitos Abordados:__\n",
    "- Probabilidade Frequêncial\n",
    "    - Eventos mutuamente exclusivos\n",
    "    - Eventos complementares\n",
    "    - Eventos independentes\n",
    "    - Eventos condicionais\n",
    "    \n",
    "- Probabilidade Bayesiana\n",
    "    - Teorema de Probabilidade\n",
    "    - Teorema de Bayes\n",
    "\n"
   ]
  },
  {
   "cell_type": "markdown",
   "metadata": {},
   "source": [
    "__1) Em texto tirado da internet é formado por 5 verbos, 7 substantivos e 2 artigos. Ao selecionar uma palavra aleatoriamente. Qual é a probabilidade da palavra ser um verbo?__\n"
   ]
  },
  {
   "cell_type": "code",
   "execution_count": 3,
   "metadata": {},
   "outputs": [],
   "source": [
    "verbo = 5\n",
    "substantivos = 7;\n",
    "artigos = 2;\n",
    "\n",
    "# Defina a probabilidade\n",
    "# p_verbo = \n",
    "# print(p_verbo)"
   ]
  },
  {
   "cell_type": "markdown",
   "metadata": {},
   "source": [
    "__2) Em texto tirado da internet é formado por 30% verbos, 60% substantivos e 10% artigos. Ao selecionar uma palavra aleatoriamente. Qual é a probabilidade da palavra ser um verbo ou um substantivo?__\n"
   ]
  },
  {
   "cell_type": "code",
   "execution_count": 4,
   "metadata": {},
   "outputs": [],
   "source": [
    "verbo = 0.3\n",
    "substantivos = 0.6;\n",
    "artigos = 0.1;\n",
    "\n",
    "# Defina a probabilidade\n",
    "# p_verbo_ou_substantivo = \n",
    "# print(p_verbo_ou_substantivo)"
   ]
  },
  {
   "cell_type": "markdown",
   "metadata": {},
   "source": [
    "__3) Suponhamos que 80% dos compradores de carros sejam bons pagadores, além disso, que haja uma probabilidade de 70% de que um bom pagador obtenha um cartão de crédito e passe para 40% para um mal pagador. Sabendo disso calcule:__\n",
    "\n",
    " - __a)__ Um comprador de carro selecionado ao acaso tenha um cartão de crédito.\n",
    " - __b)__ Um comprador de carro selecionado ao acaso e que tenha um cartão de crédito e seja bom pagador.\n",
    " - __c)__ Um comprador de carro selecionado ao acaso e que não tenha cartão de crédito e que seja um bom pagador."
   ]
  },
  {
   "cell_type": "code",
   "execution_count": 5,
   "metadata": {},
   "outputs": [],
   "source": [
    "# a)\n",
    "# b)\n",
    "# c)"
   ]
  },
  {
   "cell_type": "markdown",
   "metadata": {},
   "source": [
    "__4) Observou-se em 10 dias a frequência com que uma dada pessoa foi à praia e e fez sol:__\n",
    "\n",
    "|Dia | 1 | 2 | 3 | 4 | 5 | 6 | 7 | 8 | 9 | 10 |\n",
    "| --- | --- | --- | --- | --- | --- |--- | --- | --- | --- | --- |\n",
    "| Foia Praia | N | S | N | S | S | S | N | N | S | S |\n",
    "| Fez sol | N | S | N | S | N | S | S | N | S | S |\n",
    "\n",
    "__Tomando por base no conjunto de dados acima, responda:__\n",
    "\n",
    "- __a)__ Qual a probabilidade da pessoa em geral ir à praia?\n",
    "- __b)__ Dado que fez sol, qual probabilidade da pessoa ir em geral a praia?\n",
    "- __c)__ Os eventos _\"a pessoa ir a praia\"_ e _\"fazer sol\"_ são independentes ou condicionados?"
   ]
  },
  {
   "cell_type": "code",
   "execution_count": 6,
   "metadata": {},
   "outputs": [],
   "source": [
    "# a)\n",
    "# b)\n",
    "# c)"
   ]
  }
 ],
 "metadata": {
  "kernelspec": {
   "display_name": "Python 3",
   "language": "python",
   "name": "python3"
  },
  "language_info": {
   "codemirror_mode": {
    "name": "ipython",
    "version": 3
   },
   "file_extension": ".py",
   "mimetype": "text/x-python",
   "name": "python",
   "nbconvert_exporter": "python",
   "pygments_lexer": "ipython3",
   "version": "3.8.3"
  }
 },
 "nbformat": 4,
 "nbformat_minor": 4
}
