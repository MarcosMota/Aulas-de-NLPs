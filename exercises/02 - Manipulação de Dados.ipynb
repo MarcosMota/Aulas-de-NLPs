{
 "cells": [
  {
   "cell_type": "markdown",
   "metadata": {},
   "source": [
    "# Conjunto de Dados"
   ]
  },
  {
   "cell_type": "markdown",
   "metadata": {},
   "source": [
    "# Data Wragle"
   ]
  },
  {
   "cell_type": "markdown",
   "metadata": {},
   "source": [
    "## Carregamento dos dados"
   ]
  },
  {
   "cell_type": "code",
   "execution_count": 4,
   "metadata": {
    "tags": [
     "carregamento",
     "dos",
     "dados"
    ]
   },
   "outputs": [
    {
     "data": {
      "text/html": [
       "<div>\n",
       "<style scoped>\n",
       "    .dataframe tbody tr th:only-of-type {\n",
       "        vertical-align: middle;\n",
       "    }\n",
       "\n",
       "    .dataframe tbody tr th {\n",
       "        vertical-align: top;\n",
       "    }\n",
       "\n",
       "    .dataframe thead th {\n",
       "        text-align: right;\n",
       "    }\n",
       "</style>\n",
       "<table border=\"1\" class=\"dataframe\">\n",
       "  <thead>\n",
       "    <tr style=\"text-align: right;\">\n",
       "      <th></th>\n",
       "      <th>Make</th>\n",
       "      <th>Model</th>\n",
       "      <th>Year</th>\n",
       "      <th>Engine Fuel Type</th>\n",
       "      <th>Engine HP</th>\n",
       "      <th>Engine Cylinders</th>\n",
       "      <th>Transmission Type</th>\n",
       "      <th>Driven_Wheels</th>\n",
       "      <th>Number of Doors</th>\n",
       "      <th>Market Category</th>\n",
       "      <th>Vehicle Size</th>\n",
       "      <th>Vehicle Style</th>\n",
       "      <th>highway MPG</th>\n",
       "      <th>city mpg</th>\n",
       "      <th>Popularity</th>\n",
       "      <th>MSRP</th>\n",
       "    </tr>\n",
       "  </thead>\n",
       "  <tbody>\n",
       "    <tr>\n",
       "      <th>0</th>\n",
       "      <td>BMW</td>\n",
       "      <td>1 Series M</td>\n",
       "      <td>2011</td>\n",
       "      <td>premium unleaded (required)</td>\n",
       "      <td>335.0</td>\n",
       "      <td>6.0</td>\n",
       "      <td>MANUAL</td>\n",
       "      <td>rear wheel drive</td>\n",
       "      <td>2.0</td>\n",
       "      <td>Factory Tuner,Luxury,High-Performance</td>\n",
       "      <td>Compact</td>\n",
       "      <td>Coupe</td>\n",
       "      <td>26</td>\n",
       "      <td>19</td>\n",
       "      <td>3916</td>\n",
       "      <td>46135</td>\n",
       "    </tr>\n",
       "    <tr>\n",
       "      <th>1</th>\n",
       "      <td>BMW</td>\n",
       "      <td>1 Series</td>\n",
       "      <td>2011</td>\n",
       "      <td>premium unleaded (required)</td>\n",
       "      <td>300.0</td>\n",
       "      <td>6.0</td>\n",
       "      <td>MANUAL</td>\n",
       "      <td>rear wheel drive</td>\n",
       "      <td>2.0</td>\n",
       "      <td>Luxury,Performance</td>\n",
       "      <td>Compact</td>\n",
       "      <td>Convertible</td>\n",
       "      <td>28</td>\n",
       "      <td>19</td>\n",
       "      <td>3916</td>\n",
       "      <td>40650</td>\n",
       "    </tr>\n",
       "    <tr>\n",
       "      <th>2</th>\n",
       "      <td>BMW</td>\n",
       "      <td>1 Series</td>\n",
       "      <td>2011</td>\n",
       "      <td>premium unleaded (required)</td>\n",
       "      <td>300.0</td>\n",
       "      <td>6.0</td>\n",
       "      <td>MANUAL</td>\n",
       "      <td>rear wheel drive</td>\n",
       "      <td>2.0</td>\n",
       "      <td>Luxury,High-Performance</td>\n",
       "      <td>Compact</td>\n",
       "      <td>Coupe</td>\n",
       "      <td>28</td>\n",
       "      <td>20</td>\n",
       "      <td>3916</td>\n",
       "      <td>36350</td>\n",
       "    </tr>\n",
       "    <tr>\n",
       "      <th>3</th>\n",
       "      <td>BMW</td>\n",
       "      <td>1 Series</td>\n",
       "      <td>2011</td>\n",
       "      <td>premium unleaded (required)</td>\n",
       "      <td>230.0</td>\n",
       "      <td>6.0</td>\n",
       "      <td>MANUAL</td>\n",
       "      <td>rear wheel drive</td>\n",
       "      <td>2.0</td>\n",
       "      <td>Luxury,Performance</td>\n",
       "      <td>Compact</td>\n",
       "      <td>Coupe</td>\n",
       "      <td>28</td>\n",
       "      <td>18</td>\n",
       "      <td>3916</td>\n",
       "      <td>29450</td>\n",
       "    </tr>\n",
       "    <tr>\n",
       "      <th>4</th>\n",
       "      <td>BMW</td>\n",
       "      <td>1 Series</td>\n",
       "      <td>2011</td>\n",
       "      <td>premium unleaded (required)</td>\n",
       "      <td>230.0</td>\n",
       "      <td>6.0</td>\n",
       "      <td>MANUAL</td>\n",
       "      <td>rear wheel drive</td>\n",
       "      <td>2.0</td>\n",
       "      <td>Luxury</td>\n",
       "      <td>Compact</td>\n",
       "      <td>Convertible</td>\n",
       "      <td>28</td>\n",
       "      <td>18</td>\n",
       "      <td>3916</td>\n",
       "      <td>34500</td>\n",
       "    </tr>\n",
       "  </tbody>\n",
       "</table>\n",
       "</div>"
      ],
      "text/plain": [
       "  Make       Model  Year             Engine Fuel Type  Engine HP  \\\n",
       "0  BMW  1 Series M  2011  premium unleaded (required)      335.0   \n",
       "1  BMW    1 Series  2011  premium unleaded (required)      300.0   \n",
       "2  BMW    1 Series  2011  premium unleaded (required)      300.0   \n",
       "3  BMW    1 Series  2011  premium unleaded (required)      230.0   \n",
       "4  BMW    1 Series  2011  premium unleaded (required)      230.0   \n",
       "\n",
       "   Engine Cylinders Transmission Type     Driven_Wheels  Number of Doors  \\\n",
       "0               6.0            MANUAL  rear wheel drive              2.0   \n",
       "1               6.0            MANUAL  rear wheel drive              2.0   \n",
       "2               6.0            MANUAL  rear wheel drive              2.0   \n",
       "3               6.0            MANUAL  rear wheel drive              2.0   \n",
       "4               6.0            MANUAL  rear wheel drive              2.0   \n",
       "\n",
       "                         Market Category Vehicle Size Vehicle Style  \\\n",
       "0  Factory Tuner,Luxury,High-Performance      Compact         Coupe   \n",
       "1                     Luxury,Performance      Compact   Convertible   \n",
       "2                Luxury,High-Performance      Compact         Coupe   \n",
       "3                     Luxury,Performance      Compact         Coupe   \n",
       "4                                 Luxury      Compact   Convertible   \n",
       "\n",
       "   highway MPG  city mpg  Popularity   MSRP  \n",
       "0           26        19        3916  46135  \n",
       "1           28        19        3916  40650  \n",
       "2           28        20        3916  36350  \n",
       "3           28        18        3916  29450  \n",
       "4           28        18        3916  34500  "
      ]
     },
     "execution_count": 4,
     "metadata": {},
     "output_type": "execute_result"
    }
   ],
   "source": [
    "import pandas as pd\n",
    "import numpy as np\n",
    "\n",
    "# Visualização\n",
    "import seaborn as sns \n",
    "import matplotlib.pyplot as plt\n",
    "%matplotlib inline \n",
    "sns.set(color_codes=True)\n",
    "\n",
    "# Carregamento do dataset\n",
    "df = pd.read_csv('../data/cars.csv', encoding='ISO-8859-1')\n",
    "df.head(5)"
   ]
  },
  {
   "cell_type": "markdown",
   "metadata": {},
   "source": [
    "## Remover dados Irrelevantes\n",
    "\n",
    "Busque sempre se perguntar, o que estou procurando? Quais variáveis fazem sentido para a minha analise? Aqui irei remover as colunas __quantidade de portas__ e __tipo de combustível__."
   ]
  },
  {
   "cell_type": "code",
   "execution_count": 5,
   "metadata": {},
   "outputs": [
    {
     "data": {
      "text/html": [
       "<div>\n",
       "<style scoped>\n",
       "    .dataframe tbody tr th:only-of-type {\n",
       "        vertical-align: middle;\n",
       "    }\n",
       "\n",
       "    .dataframe tbody tr th {\n",
       "        vertical-align: top;\n",
       "    }\n",
       "\n",
       "    .dataframe thead th {\n",
       "        text-align: right;\n",
       "    }\n",
       "</style>\n",
       "<table border=\"1\" class=\"dataframe\">\n",
       "  <thead>\n",
       "    <tr style=\"text-align: right;\">\n",
       "      <th></th>\n",
       "      <th>Make</th>\n",
       "      <th>Model</th>\n",
       "      <th>Year</th>\n",
       "      <th>Engine Cylinders</th>\n",
       "      <th>Transmission Type</th>\n",
       "      <th>Vehicle Style</th>\n",
       "      <th>Popularity</th>\n",
       "      <th>MSRP</th>\n",
       "    </tr>\n",
       "  </thead>\n",
       "  <tbody>\n",
       "    <tr>\n",
       "      <th>0</th>\n",
       "      <td>BMW</td>\n",
       "      <td>1 Series M</td>\n",
       "      <td>2011</td>\n",
       "      <td>6.0</td>\n",
       "      <td>MANUAL</td>\n",
       "      <td>Coupe</td>\n",
       "      <td>3916</td>\n",
       "      <td>46135</td>\n",
       "    </tr>\n",
       "    <tr>\n",
       "      <th>1</th>\n",
       "      <td>BMW</td>\n",
       "      <td>1 Series</td>\n",
       "      <td>2011</td>\n",
       "      <td>6.0</td>\n",
       "      <td>MANUAL</td>\n",
       "      <td>Convertible</td>\n",
       "      <td>3916</td>\n",
       "      <td>40650</td>\n",
       "    </tr>\n",
       "    <tr>\n",
       "      <th>2</th>\n",
       "      <td>BMW</td>\n",
       "      <td>1 Series</td>\n",
       "      <td>2011</td>\n",
       "      <td>6.0</td>\n",
       "      <td>MANUAL</td>\n",
       "      <td>Coupe</td>\n",
       "      <td>3916</td>\n",
       "      <td>36350</td>\n",
       "    </tr>\n",
       "    <tr>\n",
       "      <th>3</th>\n",
       "      <td>BMW</td>\n",
       "      <td>1 Series</td>\n",
       "      <td>2011</td>\n",
       "      <td>6.0</td>\n",
       "      <td>MANUAL</td>\n",
       "      <td>Coupe</td>\n",
       "      <td>3916</td>\n",
       "      <td>29450</td>\n",
       "    </tr>\n",
       "    <tr>\n",
       "      <th>4</th>\n",
       "      <td>BMW</td>\n",
       "      <td>1 Series</td>\n",
       "      <td>2011</td>\n",
       "      <td>6.0</td>\n",
       "      <td>MANUAL</td>\n",
       "      <td>Convertible</td>\n",
       "      <td>3916</td>\n",
       "      <td>34500</td>\n",
       "    </tr>\n",
       "  </tbody>\n",
       "</table>\n",
       "</div>"
      ],
      "text/plain": [
       "  Make       Model  Year  Engine Cylinders Transmission Type Vehicle Style  \\\n",
       "0  BMW  1 Series M  2011               6.0            MANUAL         Coupe   \n",
       "1  BMW    1 Series  2011               6.0            MANUAL   Convertible   \n",
       "2  BMW    1 Series  2011               6.0            MANUAL         Coupe   \n",
       "3  BMW    1 Series  2011               6.0            MANUAL         Coupe   \n",
       "4  BMW    1 Series  2011               6.0            MANUAL   Convertible   \n",
       "\n",
       "   Popularity   MSRP  \n",
       "0        3916  46135  \n",
       "1        3916  40650  \n",
       "2        3916  36350  \n",
       "3        3916  29450  \n",
       "4        3916  34500  "
      ]
     },
     "execution_count": 5,
     "metadata": {},
     "output_type": "execute_result"
    }
   ],
   "source": [
    "df = df.drop([\"Engine Fuel Type\",\"Number of Doors\", \"Engine HP\", \"Driven_Wheels\", \"Market Category\", \"Vehicle Size\", \"highway MPG\", \"city mpg\"], axis=1)\n",
    "df.head(5)"
   ]
  },
  {
   "cell_type": "markdown",
   "metadata": {},
   "source": [
    "## Renomear as Colunas"
   ]
  },
  {
   "cell_type": "code",
   "execution_count": 6,
   "metadata": {},
   "outputs": [
    {
     "data": {
      "text/html": [
       "<div>\n",
       "<style scoped>\n",
       "    .dataframe tbody tr th:only-of-type {\n",
       "        vertical-align: middle;\n",
       "    }\n",
       "\n",
       "    .dataframe tbody tr th {\n",
       "        vertical-align: top;\n",
       "    }\n",
       "\n",
       "    .dataframe thead th {\n",
       "        text-align: right;\n",
       "    }\n",
       "</style>\n",
       "<table border=\"1\" class=\"dataframe\">\n",
       "  <thead>\n",
       "    <tr style=\"text-align: right;\">\n",
       "      <th></th>\n",
       "      <th>Marca</th>\n",
       "      <th>Modelo</th>\n",
       "      <th>Ano</th>\n",
       "      <th>Cilindros</th>\n",
       "      <th>Macha</th>\n",
       "      <th>Estilo</th>\n",
       "      <th>Popularidade</th>\n",
       "      <th>Preco</th>\n",
       "    </tr>\n",
       "  </thead>\n",
       "  <tbody>\n",
       "    <tr>\n",
       "      <th>0</th>\n",
       "      <td>BMW</td>\n",
       "      <td>1 Series M</td>\n",
       "      <td>2011</td>\n",
       "      <td>6.0</td>\n",
       "      <td>MANUAL</td>\n",
       "      <td>Coupe</td>\n",
       "      <td>3916</td>\n",
       "      <td>46135</td>\n",
       "    </tr>\n",
       "    <tr>\n",
       "      <th>1</th>\n",
       "      <td>BMW</td>\n",
       "      <td>1 Series</td>\n",
       "      <td>2011</td>\n",
       "      <td>6.0</td>\n",
       "      <td>MANUAL</td>\n",
       "      <td>Convertible</td>\n",
       "      <td>3916</td>\n",
       "      <td>40650</td>\n",
       "    </tr>\n",
       "    <tr>\n",
       "      <th>2</th>\n",
       "      <td>BMW</td>\n",
       "      <td>1 Series</td>\n",
       "      <td>2011</td>\n",
       "      <td>6.0</td>\n",
       "      <td>MANUAL</td>\n",
       "      <td>Coupe</td>\n",
       "      <td>3916</td>\n",
       "      <td>36350</td>\n",
       "    </tr>\n",
       "    <tr>\n",
       "      <th>3</th>\n",
       "      <td>BMW</td>\n",
       "      <td>1 Series</td>\n",
       "      <td>2011</td>\n",
       "      <td>6.0</td>\n",
       "      <td>MANUAL</td>\n",
       "      <td>Coupe</td>\n",
       "      <td>3916</td>\n",
       "      <td>29450</td>\n",
       "    </tr>\n",
       "    <tr>\n",
       "      <th>4</th>\n",
       "      <td>BMW</td>\n",
       "      <td>1 Series</td>\n",
       "      <td>2011</td>\n",
       "      <td>6.0</td>\n",
       "      <td>MANUAL</td>\n",
       "      <td>Convertible</td>\n",
       "      <td>3916</td>\n",
       "      <td>34500</td>\n",
       "    </tr>\n",
       "  </tbody>\n",
       "</table>\n",
       "</div>"
      ],
      "text/plain": [
       "  Marca      Modelo   Ano  Cilindros   Macha       Estilo  Popularidade  Preco\n",
       "0   BMW  1 Series M  2011        6.0  MANUAL        Coupe          3916  46135\n",
       "1   BMW    1 Series  2011        6.0  MANUAL  Convertible          3916  40650\n",
       "2   BMW    1 Series  2011        6.0  MANUAL        Coupe          3916  36350\n",
       "3   BMW    1 Series  2011        6.0  MANUAL        Coupe          3916  29450\n",
       "4   BMW    1 Series  2011        6.0  MANUAL  Convertible          3916  34500"
      ]
     },
     "execution_count": 6,
     "metadata": {},
     "output_type": "execute_result"
    }
   ],
   "source": [
    "df = df.rename(columns={\"Make\": \"Marca\",\"Model\":\"Modelo\", \"Engine Cylinders\": \"Cilindros\", \"Transmission Type\": \"Macha\",\"Vehicle Style\": \"Estilo\",\"Popularity\":\"Popularidade\", \"MSRP\": \"Preco\", \"Year\":\"Ano\" })\n",
    "df.head(5)"
   ]
  },
  {
   "cell_type": "markdown",
   "metadata": {},
   "source": [
    "## Ajustar os tipos de dados\n",
    "Sempre olhe os tipos dos dados do dataset, pois quando você importa ele tenta inferir o tipo de dados, caso ele por exemplo categorize uma variável númerica como caracter, irá impactar drásticamente na sua análise."
   ]
  },
  {
   "cell_type": "code",
   "execution_count": 7,
   "metadata": {},
   "outputs": [
    {
     "data": {
      "text/plain": [
       "Marca            object\n",
       "Modelo           object\n",
       "Ano               int64\n",
       "Cilindros       float64\n",
       "Macha            object\n",
       "Estilo           object\n",
       "Popularidade      int64\n",
       "Preco             int64\n",
       "dtype: object"
      ]
     },
     "execution_count": 7,
     "metadata": {},
     "output_type": "execute_result"
    }
   ],
   "source": [
    "df.dtypes\n",
    "\n",
    "# df[\"Preco\"] = df[\"Preco\"].astype('float')"
   ]
  },
  {
   "cell_type": "markdown",
   "metadata": {},
   "source": [
    "## Remover dados duplicados"
   ]
  },
  {
   "cell_type": "code",
   "execution_count": 8,
   "metadata": {},
   "outputs": [
    {
     "data": {
      "text/plain": [
       "Marca           11914\n",
       "Modelo          11914\n",
       "Ano             11914\n",
       "Cilindros       11884\n",
       "Macha           11914\n",
       "Estilo          11914\n",
       "Popularidade    11914\n",
       "Preco           11914\n",
       "dtype: int64"
      ]
     },
     "execution_count": 8,
     "metadata": {},
     "output_type": "execute_result"
    }
   ],
   "source": [
    "# Após\n",
    "df.count()"
   ]
  },
  {
   "cell_type": "code",
   "execution_count": 9,
   "metadata": {},
   "outputs": [
    {
     "data": {
      "text/html": [
       "<div>\n",
       "<style scoped>\n",
       "    .dataframe tbody tr th:only-of-type {\n",
       "        vertical-align: middle;\n",
       "    }\n",
       "\n",
       "    .dataframe tbody tr th {\n",
       "        vertical-align: top;\n",
       "    }\n",
       "\n",
       "    .dataframe thead th {\n",
       "        text-align: right;\n",
       "    }\n",
       "</style>\n",
       "<table border=\"1\" class=\"dataframe\">\n",
       "  <thead>\n",
       "    <tr style=\"text-align: right;\">\n",
       "      <th></th>\n",
       "      <th>Marca</th>\n",
       "      <th>Modelo</th>\n",
       "      <th>Ano</th>\n",
       "      <th>Cilindros</th>\n",
       "      <th>Macha</th>\n",
       "      <th>Estilo</th>\n",
       "      <th>Popularidade</th>\n",
       "      <th>Preco</th>\n",
       "    </tr>\n",
       "  </thead>\n",
       "  <tbody>\n",
       "    <tr>\n",
       "      <th>0</th>\n",
       "      <td>BMW</td>\n",
       "      <td>1 Series M</td>\n",
       "      <td>2011</td>\n",
       "      <td>6.0</td>\n",
       "      <td>MANUAL</td>\n",
       "      <td>Coupe</td>\n",
       "      <td>3916</td>\n",
       "      <td>46135</td>\n",
       "    </tr>\n",
       "    <tr>\n",
       "      <th>1</th>\n",
       "      <td>BMW</td>\n",
       "      <td>1 Series</td>\n",
       "      <td>2011</td>\n",
       "      <td>6.0</td>\n",
       "      <td>MANUAL</td>\n",
       "      <td>Convertible</td>\n",
       "      <td>3916</td>\n",
       "      <td>40650</td>\n",
       "    </tr>\n",
       "    <tr>\n",
       "      <th>2</th>\n",
       "      <td>BMW</td>\n",
       "      <td>1 Series</td>\n",
       "      <td>2011</td>\n",
       "      <td>6.0</td>\n",
       "      <td>MANUAL</td>\n",
       "      <td>Coupe</td>\n",
       "      <td>3916</td>\n",
       "      <td>36350</td>\n",
       "    </tr>\n",
       "    <tr>\n",
       "      <th>3</th>\n",
       "      <td>BMW</td>\n",
       "      <td>1 Series</td>\n",
       "      <td>2011</td>\n",
       "      <td>6.0</td>\n",
       "      <td>MANUAL</td>\n",
       "      <td>Coupe</td>\n",
       "      <td>3916</td>\n",
       "      <td>29450</td>\n",
       "    </tr>\n",
       "    <tr>\n",
       "      <th>4</th>\n",
       "      <td>BMW</td>\n",
       "      <td>1 Series</td>\n",
       "      <td>2011</td>\n",
       "      <td>6.0</td>\n",
       "      <td>MANUAL</td>\n",
       "      <td>Convertible</td>\n",
       "      <td>3916</td>\n",
       "      <td>34500</td>\n",
       "    </tr>\n",
       "  </tbody>\n",
       "</table>\n",
       "</div>"
      ],
      "text/plain": [
       "  Marca      Modelo   Ano  Cilindros   Macha       Estilo  Popularidade  Preco\n",
       "0   BMW  1 Series M  2011        6.0  MANUAL        Coupe          3916  46135\n",
       "1   BMW    1 Series  2011        6.0  MANUAL  Convertible          3916  40650\n",
       "2   BMW    1 Series  2011        6.0  MANUAL        Coupe          3916  36350\n",
       "3   BMW    1 Series  2011        6.0  MANUAL        Coupe          3916  29450\n",
       "4   BMW    1 Series  2011        6.0  MANUAL  Convertible          3916  34500"
      ]
     },
     "execution_count": 9,
     "metadata": {},
     "output_type": "execute_result"
    }
   ],
   "source": [
    "df = df.drop_duplicates()\n",
    "df.head(5)"
   ]
  },
  {
   "cell_type": "code",
   "execution_count": 10,
   "metadata": {},
   "outputs": [
    {
     "data": {
      "text/plain": [
       "Marca           10894\n",
       "Modelo          10894\n",
       "Ano             10894\n",
       "Cilindros       10864\n",
       "Macha           10894\n",
       "Estilo          10894\n",
       "Popularidade    10894\n",
       "Preco           10894\n",
       "dtype: int64"
      ]
     },
     "execution_count": 10,
     "metadata": {},
     "output_type": "execute_result"
    }
   ],
   "source": [
    "# Após\n",
    "df.count()"
   ]
  },
  {
   "cell_type": "markdown",
   "metadata": {},
   "source": [
    "## Remover dados nulos"
   ]
  },
  {
   "cell_type": "markdown",
   "metadata": {},
   "source": [
    "### Verificar se existe dados nulos"
   ]
  },
  {
   "cell_type": "code",
   "execution_count": 11,
   "metadata": {},
   "outputs": [
    {
     "name": "stdout",
     "output_type": "stream",
     "text": [
      "Marca            0\n",
      "Modelo           0\n",
      "Ano              0\n",
      "Cilindros       30\n",
      "Macha            0\n",
      "Estilo           0\n",
      "Popularidade     0\n",
      "Preco            0\n",
      "dtype: int64\n"
     ]
    },
    {
     "data": {
      "text/plain": [
       "Marca           10894\n",
       "Modelo          10894\n",
       "Ano             10894\n",
       "Cilindros       10864\n",
       "Macha           10894\n",
       "Estilo          10894\n",
       "Popularidade    10894\n",
       "Preco           10894\n",
       "dtype: int64"
      ]
     },
     "execution_count": 11,
     "metadata": {},
     "output_type": "execute_result"
    }
   ],
   "source": [
    "print(df.isnull().sum())\n",
    "df.count()"
   ]
  },
  {
   "cell_type": "markdown",
   "metadata": {},
   "source": [
    "### Tratamento os dados nulos\n",
    "\n",
    "__Opções__\n",
    "- Remover os dados faltantes \n",
    "- Preencher manualmente\n",
    "- Preenchimento automatico com frequência (Média, Moda), machine learning"
   ]
  },
  {
   "cell_type": "code",
   "execution_count": 12,
   "metadata": {},
   "outputs": [
    {
     "name": "stdout",
     "output_type": "stream",
     "text": [
      "Marca            0\n",
      "Modelo           0\n",
      "Ano              0\n",
      "Cilindros       30\n",
      "Macha            0\n",
      "Estilo           0\n",
      "Popularidade     0\n",
      "Preco            0\n",
      "dtype: int64\n"
     ]
    }
   ],
   "source": [
    "print(df.isnull().sum())\n"
   ]
  },
  {
   "cell_type": "markdown",
   "metadata": {},
   "source": [
    "## Identificar e tratar os Outliers"
   ]
  },
  {
   "attachments": {
    "baixados.png": {
     "image/png": "[encoded data removed]"
    }
   },
   "cell_type": "markdown",
   "metadata": {},
   "source": [
    "Os quartis ordena os dados e divide em quatro partes iguais, possibilitando analisar a distribuição da frequência dos dados\n",
    "\n",
    "![baixados.png](attachment:baixados.png)\n",
    "\n",
    "- primeiro quartil (designado por Q1/4) = quartil inferior = é o valor aos 25% da amostra ordenada = 25º percentil\n",
    "- segundo quartil (designado por Q2/4) = mediana = é o valor até ao qual se encontra 50% da amostra ordenada = 50º percentil, ou 5º decil.\n",
    "- terceiro quartil (designado por Q3/4) = quartil superior = valor a partir do qual se encontram 25% dos valores mais elevados = valor aos 75% da amostra ordenada = 75º percentil\n",
    "- à diferença entre os quartis superior e inferior chama-se amplitude inter-quartil."
   ]
  },
  {
   "attachments": {
    "boxplot_explanation-1.png": {
     "image/png": "[encoded data removed]"
    }
   },
   "cell_type": "markdown",
   "metadata": {},
   "source": [
    "### Box Plot\n",
    "\n",
    "O boxplot se baseia nos intervalos de interquartil, separando os outliers que estão fora do limite superior e inferior.\n",
    "- Limite Inferior = Primeiro Quartil – 1,5 * (Terceiro Quartil – Primeiro Quartil)\n",
    "- Limite Superior = Terceiro Quartil + 1,5 * (Terceiro Quartil – Primeiro\n",
    "\n",
    "![boxplot_explanation-1.png](attachment:boxplot_explanation-1.png)\n",
    "\n"
   ]
  },
  {
   "cell_type": "code",
   "execution_count": 13,
   "metadata": {},
   "outputs": [
    {
     "name": "stdout",
     "output_type": "stream",
     "text": [
      "Primeiro Quaril 4.0\n",
      "Terceiro Quaril 6.0\n",
      "Média 5.668446244477172\n"
     ]
    },
    {
     "data": {
      "image/png": "[encoded data removed]",
      "text/plain": [
       "<Figure size 432x288 with 1 Axes>"
      ]
     },
     "metadata": {},
     "output_type": "display_data"
    }
   ],
   "source": [
    "sns.boxplot(x=df['Cilindros'])\n",
    "\n",
    "Q1 = df['Cilindros'].quantile(0.25)\n",
    "Q3 = df['Cilindros'].quantile(0.75)\n",
    "print(\"Primeiro Quaril\", Q1)\n",
    "print(\"Terceiro Quaril\", Q3)\n",
    "print(\"Média\", df['Cilindros'].mean())"
   ]
  },
  {
   "cell_type": "code",
   "execution_count": 14,
   "metadata": {},
   "outputs": [
    {
     "name": "stdout",
     "output_type": "stream",
     "text": [
      "Ano                 9.00\n",
      "Cilindros           2.00\n",
      "Popularidade     1460.00\n",
      "Preco           21300.75\n",
      "dtype: float64\n"
     ]
    }
   ],
   "source": [
    "Q1 = df.quantile(0.25)\n",
    "Q3 = df.quantile(0.75)\n",
    "IQR = Q3 - Q1\n",
    "print(IQR)"
   ]
  },
  {
   "cell_type": "code",
   "execution_count": 15,
   "metadata": {},
   "outputs": [
    {
     "data": {
      "text/plain": [
       "(8737, 8)"
      ]
     },
     "execution_count": 15,
     "metadata": {},
     "output_type": "execute_result"
    }
   ],
   "source": [
    "\n",
    "df = df[~((df < (Q1 - 1.5 * IQR)) |(df > (Q3 + 1.5 * IQR))).any(axis=1)]\n",
    "df.shape"
   ]
  },
  {
   "cell_type": "code",
   "execution_count": 16,
   "metadata": {},
   "outputs": [
    {
     "name": "stdout",
     "output_type": "stream",
     "text": [
      "Primeiro Quaril 4.0\n",
      "Terceiro Quaril 6.0\n"
     ]
    },
    {
     "data": {
      "image/png": "[encoded data removed]",
      "text/plain": [
       "<Figure size 432x288 with 1 Axes>"
      ]
     },
     "metadata": {},
     "output_type": "display_data"
    }
   ],
   "source": [
    "sns.boxplot(x=df['Cilindros'])\n",
    "Q1 = df['Cilindros'].quantile(0.25)\n",
    "Q3 = df['Cilindros'].quantile(0.75)\n",
    "print(\"Primeiro Quaril\", Q1)\n",
    "print(\"Terceiro Quaril\", Q3)"
   ]
  },
  {
   "cell_type": "markdown",
   "metadata": {},
   "source": [
    "# Analise de dados - Uma Variável\n",
    "\n",
    "Sempre buscamos a distribuição e frequência dos dados\n",
    "\n",
    "- Estatística Descritiva\n",
    "- Histograma\n",
    "- Box Plot"
   ]
  },
  {
   "cell_type": "markdown",
   "metadata": {},
   "source": [
    "## Formulação de perguntas\n",
    "\n",
    "- Quais são as marcas que tem mais carros.\n",
    "- Quais são os principais modelos."
   ]
  },
  {
   "cell_type": "code",
   "execution_count": 17,
   "metadata": {},
   "outputs": [
    {
     "data": {
      "text/plain": [
       "1.3841384021266712"
      ]
     },
     "execution_count": 17,
     "metadata": {},
     "output_type": "execute_result"
    }
   ],
   "source": [
    "df['Cilindros'].std()"
   ]
  },
  {
   "cell_type": "markdown",
   "metadata": {},
   "source": [
    "## Visualização de dados"
   ]
  },
  {
   "cell_type": "code",
   "execution_count": 18,
   "metadata": {},
   "outputs": [
    {
     "data": {
      "text/plain": [
       "Text(0.5, 0, 'Marcas')"
      ]
     },
     "execution_count": 18,
     "metadata": {},
     "output_type": "execute_result"
    },
    {
     "data": {
      "image/png": "[encoded data removed]",
      "text/plain": [
       "<Figure size 720x360 with 1 Axes>"
      ]
     },
     "metadata": {},
     "output_type": "display_data"
    }
   ],
   "source": [
    "df.Marca.value_counts().nlargest(10).plot(kind=\"bar\", figsize=(10,5))\n",
    "plt.title(\"As principais marcas\")\n",
    "plt.ylabel('nº de Carros')\n",
    "plt.xlabel(\"Marcas\")"
   ]
  },
  {
   "cell_type": "code",
   "execution_count": 19,
   "metadata": {},
   "outputs": [
    {
     "data": {
      "text/plain": [
       "Text(0.5, 0, 'Modelos')"
      ]
     },
     "execution_count": 19,
     "metadata": {},
     "output_type": "execute_result"
    },
    {
     "data": {
      "image/png": "[encoded data removed]",
      "text/plain": [
       "<Figure size 720x360 with 1 Axes>"
      ]
     },
     "metadata": {},
     "output_type": "display_data"
    }
   ],
   "source": [
    "df.Modelo.value_counts().nlargest(40).plot(kind=\"bar\", figsize=(10,5))\n",
    "plt.title(\"Os principais modelos\")\n",
    "plt.ylabel('nº de Carros')\n",
    "plt.xlabel(\"Modelos\")"
   ]
  },
  {
   "cell_type": "markdown",
   "metadata": {},
   "source": [
    "# Analisando Duas Variáveis"
   ]
  },
  {
   "cell_type": "markdown",
   "metadata": {},
   "source": [
    "## Qualitativos"
   ]
  },
  {
   "cell_type": "markdown",
   "metadata": {},
   "source": [
    "### Tabela de Contigência"
   ]
  },
  {
   "cell_type": "code",
   "execution_count": 44,
   "metadata": {},
   "outputs": [
    {
     "data": {
      "text/html": [
       "<div>\n",
       "<style scoped>\n",
       "    .dataframe tbody tr th:only-of-type {\n",
       "        vertical-align: middle;\n",
       "    }\n",
       "\n",
       "    .dataframe tbody tr th {\n",
       "        vertical-align: top;\n",
       "    }\n",
       "\n",
       "    .dataframe thead th {\n",
       "        text-align: right;\n",
       "    }\n",
       "</style>\n",
       "<table border=\"1\" class=\"dataframe\">\n",
       "  <thead>\n",
       "    <tr style=\"text-align: right;\">\n",
       "      <th>Estilo</th>\n",
       "      <th>2dr Hatchback</th>\n",
       "      <th>2dr SUV</th>\n",
       "      <th>4dr Hatchback</th>\n",
       "      <th>4dr SUV</th>\n",
       "      <th>Cargo Minivan</th>\n",
       "      <th>Cargo Van</th>\n",
       "      <th>Convertible</th>\n",
       "      <th>Convertible SUV</th>\n",
       "      <th>Coupe</th>\n",
       "      <th>Crew Cab Pickup</th>\n",
       "      <th>Extended Cab Pickup</th>\n",
       "      <th>Passenger Minivan</th>\n",
       "      <th>Passenger Van</th>\n",
       "      <th>Regular Cab Pickup</th>\n",
       "      <th>Sedan</th>\n",
       "      <th>Wagon</th>\n",
       "    </tr>\n",
       "    <tr>\n",
       "      <th>Macha</th>\n",
       "      <th></th>\n",
       "      <th></th>\n",
       "      <th></th>\n",
       "      <th></th>\n",
       "      <th></th>\n",
       "      <th></th>\n",
       "      <th></th>\n",
       "      <th></th>\n",
       "      <th></th>\n",
       "      <th></th>\n",
       "      <th></th>\n",
       "      <th></th>\n",
       "      <th></th>\n",
       "      <th></th>\n",
       "      <th></th>\n",
       "      <th></th>\n",
       "    </tr>\n",
       "  </thead>\n",
       "  <tbody>\n",
       "    <tr>\n",
       "      <th>AUTOMATED_MANUAL</th>\n",
       "      <td>36</td>\n",
       "      <td>0</td>\n",
       "      <td>38</td>\n",
       "      <td>25</td>\n",
       "      <td>0</td>\n",
       "      <td>0</td>\n",
       "      <td>62</td>\n",
       "      <td>0</td>\n",
       "      <td>15</td>\n",
       "      <td>0</td>\n",
       "      <td>0</td>\n",
       "      <td>0</td>\n",
       "      <td>0</td>\n",
       "      <td>0</td>\n",
       "      <td>139</td>\n",
       "      <td>18</td>\n",
       "    </tr>\n",
       "    <tr>\n",
       "      <th>AUTOMATIC</th>\n",
       "      <td>100</td>\n",
       "      <td>12</td>\n",
       "      <td>338</td>\n",
       "      <td>2018</td>\n",
       "      <td>37</td>\n",
       "      <td>51</td>\n",
       "      <td>191</td>\n",
       "      <td>8</td>\n",
       "      <td>361</td>\n",
       "      <td>508</td>\n",
       "      <td>281</td>\n",
       "      <td>319</td>\n",
       "      <td>45</td>\n",
       "      <td>124</td>\n",
       "      <td>1766</td>\n",
       "      <td>322</td>\n",
       "    </tr>\n",
       "    <tr>\n",
       "      <th>DIRECT_DRIVE</th>\n",
       "      <td>0</td>\n",
       "      <td>0</td>\n",
       "      <td>9</td>\n",
       "      <td>1</td>\n",
       "      <td>0</td>\n",
       "      <td>0</td>\n",
       "      <td>0</td>\n",
       "      <td>0</td>\n",
       "      <td>0</td>\n",
       "      <td>0</td>\n",
       "      <td>0</td>\n",
       "      <td>0</td>\n",
       "      <td>0</td>\n",
       "      <td>0</td>\n",
       "      <td>2</td>\n",
       "      <td>0</td>\n",
       "    </tr>\n",
       "    <tr>\n",
       "      <th>MANUAL</th>\n",
       "      <td>181</td>\n",
       "      <td>21</td>\n",
       "      <td>200</td>\n",
       "      <td>79</td>\n",
       "      <td>0</td>\n",
       "      <td>0</td>\n",
       "      <td>200</td>\n",
       "      <td>15</td>\n",
       "      <td>361</td>\n",
       "      <td>36</td>\n",
       "      <td>168</td>\n",
       "      <td>2</td>\n",
       "      <td>0</td>\n",
       "      <td>119</td>\n",
       "      <td>411</td>\n",
       "      <td>109</td>\n",
       "    </tr>\n",
       "    <tr>\n",
       "      <th>UNKNOWN</th>\n",
       "      <td>2</td>\n",
       "      <td>4</td>\n",
       "      <td>0</td>\n",
       "      <td>0</td>\n",
       "      <td>0</td>\n",
       "      <td>0</td>\n",
       "      <td>1</td>\n",
       "      <td>0</td>\n",
       "      <td>1</td>\n",
       "      <td>0</td>\n",
       "      <td>0</td>\n",
       "      <td>0</td>\n",
       "      <td>0</td>\n",
       "      <td>0</td>\n",
       "      <td>1</td>\n",
       "      <td>0</td>\n",
       "    </tr>\n",
       "  </tbody>\n",
       "</table>\n",
       "</div>"
      ],
      "text/plain": [
       "Estilo            2dr Hatchback  2dr SUV  4dr Hatchback  4dr SUV  \\\n",
       "Macha                                                              \n",
       "AUTOMATED_MANUAL             36        0             38       25   \n",
       "AUTOMATIC                   100       12            338     2018   \n",
       "DIRECT_DRIVE                  0        0              9        1   \n",
       "MANUAL                      181       21            200       79   \n",
       "UNKNOWN                       2        4              0        0   \n",
       "\n",
       "Estilo            Cargo Minivan  Cargo Van  Convertible  Convertible SUV  \\\n",
       "Macha                                                                      \n",
       "AUTOMATED_MANUAL              0          0           62                0   \n",
       "AUTOMATIC                    37         51          191                8   \n",
       "DIRECT_DRIVE                  0          0            0                0   \n",
       "MANUAL                        0          0          200               15   \n",
       "UNKNOWN                       0          0            1                0   \n",
       "\n",
       "Estilo            Coupe  Crew Cab Pickup  Extended Cab Pickup  \\\n",
       "Macha                                                           \n",
       "AUTOMATED_MANUAL     15                0                    0   \n",
       "AUTOMATIC           361              508                  281   \n",
       "DIRECT_DRIVE          0                0                    0   \n",
       "MANUAL              361               36                  168   \n",
       "UNKNOWN               1                0                    0   \n",
       "\n",
       "Estilo            Passenger Minivan  Passenger Van  Regular Cab Pickup  Sedan  \\\n",
       "Macha                                                                           \n",
       "AUTOMATED_MANUAL                  0              0                   0    139   \n",
       "AUTOMATIC                       319             45                 124   1766   \n",
       "DIRECT_DRIVE                      0              0                   0      2   \n",
       "MANUAL                            2              0                 119    411   \n",
       "UNKNOWN                           0              0                   0      1   \n",
       "\n",
       "Estilo            Wagon  \n",
       "Macha                    \n",
       "AUTOMATED_MANUAL     18  \n",
       "AUTOMATIC           322  \n",
       "DIRECT_DRIVE          0  \n",
       "MANUAL              109  \n",
       "UNKNOWN               0  "
      ]
     },
     "execution_count": 44,
     "metadata": {},
     "output_type": "execute_result"
    }
   ],
   "source": [
    "\n",
    "tabela_contigencia = pd.crosstab(df.Macha, df.Estilo)\n",
    "tabela_contigencia"
   ]
  },
  {
   "cell_type": "markdown",
   "metadata": {},
   "source": [
    "### Teste de Depêndencia"
   ]
  },
  {
   "cell_type": "code",
   "execution_count": 45,
   "metadata": {},
   "outputs": [],
   "source": [
    "from scipy.stats import chi2_contingency\n",
    "from scipy.stats import chi2\n",
    "\n",
    "def verificarDependencia(table):\n",
    "    \"\"\" A partir de uma tabela responde se é dependente ou não\"\"\"\n",
    "    stat, p, g_confianca, expected = ss.chi2_contingency(table)\n",
    "    prob = 0.95\n",
    "    critical = chi2.ppf(prob, g_confianca)\n",
    "    if abs(stat) >= critical:\n",
    "        print('Temos 95% de confiança que são dependentes')\n",
    "    else:\n",
    "        print('Temos 95% de confiança que são independentes')"
   ]
  },
  {
   "cell_type": "code",
   "execution_count": 55,
   "metadata": {},
   "outputs": [
    {
     "name": "stdout",
     "output_type": "stream",
     "text": [
      "São dependentes\n"
     ]
    }
   ],
   "source": [
    "\n",
    "verificarDependencia(pd.crosstab(df.Modelo, df.Marca))"
   ]
  },
  {
   "cell_type": "code",
   "execution_count": 56,
   "metadata": {},
   "outputs": [
    {
     "ename": "SyntaxError",
     "evalue": "invalid syntax (<ipython-input-56-d49ba35e3ee0>, line 8)",
     "output_type": "error",
     "traceback": [
      "\u001b[1;36m  File \u001b[1;32m\"<ipython-input-56-d49ba35e3ee0>\"\u001b[1;36m, line \u001b[1;32m8\u001b[0m\n\u001b[1;33m    TEST A/B - TESTE DE HIPOTESE\u001b[0m\n\u001b[1;37m         ^\u001b[0m\n\u001b[1;31mSyntaxError\u001b[0m\u001b[1;31m:\u001b[0m invalid syntax\n"
     ]
    }
   ],
   "source": [
    "## ANOVA OU MANOVA\n",
    "\n",
    "# TESTE-F\n",
    "\n",
    "# RESIDUO \n",
    "    #DIF. DRISTRIBUIÇÃO\n",
    "\n",
    "#TEST A/B - TESTE DE HIPOTESE\n",
    "\n",
    "#significância - 95%\n",
    "\n",
    "# A\n",
    "# B\n",
    "# c"
   ]
  },
  {
   "cell_type": "markdown",
   "metadata": {},
   "source": [
    "## Quantitativos"
   ]
  },
  {
   "cell_type": "code",
   "execution_count": 48,
   "metadata": {},
   "outputs": [
    {
     "data": {
      "text/html": [
       "<style  type=\"text/css\" >\n",
       "#T_b37809ea_1320_11eb_97bf_90cdb6a3901erow0_col0,#T_b37809ea_1320_11eb_97bf_90cdb6a3901erow1_col1,#T_b37809ea_1320_11eb_97bf_90cdb6a3901erow2_col2,#T_b37809ea_1320_11eb_97bf_90cdb6a3901erow3_col3{\n",
       "            background-color:  #b40426;\n",
       "            color:  #f1f1f1;\n",
       "        }#T_b37809ea_1320_11eb_97bf_90cdb6a3901erow0_col1,#T_b37809ea_1320_11eb_97bf_90cdb6a3901erow1_col0,#T_b37809ea_1320_11eb_97bf_90cdb6a3901erow2_col1,#T_b37809ea_1320_11eb_97bf_90cdb6a3901erow3_col2{\n",
       "            background-color:  #3b4cc0;\n",
       "            color:  #f1f1f1;\n",
       "        }#T_b37809ea_1320_11eb_97bf_90cdb6a3901erow0_col2{\n",
       "            background-color:  #9dbdff;\n",
       "            color:  #000000;\n",
       "        }#T_b37809ea_1320_11eb_97bf_90cdb6a3901erow0_col3{\n",
       "            background-color:  #f3c7b1;\n",
       "            color:  #000000;\n",
       "        }#T_b37809ea_1320_11eb_97bf_90cdb6a3901erow1_col2{\n",
       "            background-color:  #5e7de7;\n",
       "            color:  #000000;\n",
       "        }#T_b37809ea_1320_11eb_97bf_90cdb6a3901erow1_col3{\n",
       "            background-color:  #d4dbe6;\n",
       "            color:  #000000;\n",
       "        }#T_b37809ea_1320_11eb_97bf_90cdb6a3901erow2_col0{\n",
       "            background-color:  #7da0f9;\n",
       "            color:  #000000;\n",
       "        }#T_b37809ea_1320_11eb_97bf_90cdb6a3901erow2_col3{\n",
       "            background-color:  #5b7ae5;\n",
       "            color:  #000000;\n",
       "        }#T_b37809ea_1320_11eb_97bf_90cdb6a3901erow3_col0{\n",
       "            background-color:  #e0dbd8;\n",
       "            color:  #000000;\n",
       "        }#T_b37809ea_1320_11eb_97bf_90cdb6a3901erow3_col1{\n",
       "            background-color:  #a6c4fe;\n",
       "            color:  #000000;\n",
       "        }</style><table id=\"T_b37809ea_1320_11eb_97bf_90cdb6a3901e\" ><thead>    <tr>        <th class=\"blank level0\" ></th>        <th class=\"col_heading level0 col0\" >Ano</th>        <th class=\"col_heading level0 col1\" >Cilindros</th>        <th class=\"col_heading level0 col2\" >Popularidade</th>        <th class=\"col_heading level0 col3\" >Preco</th>    </tr></thead><tbody>\n",
       "                <tr>\n",
       "                        <th id=\"T_b37809ea_1320_11eb_97bf_90cdb6a3901elevel0_row0\" class=\"row_heading level0 row0\" >Ano</th>\n",
       "                        <td id=\"T_b37809ea_1320_11eb_97bf_90cdb6a3901erow0_col0\" class=\"data row0 col0\" >1.0</td>\n",
       "                        <td id=\"T_b37809ea_1320_11eb_97bf_90cdb6a3901erow0_col1\" class=\"data row0 col1\" >-0.13</td>\n",
       "                        <td id=\"T_b37809ea_1320_11eb_97bf_90cdb6a3901erow0_col2\" class=\"data row0 col2\" >0.21</td>\n",
       "                        <td id=\"T_b37809ea_1320_11eb_97bf_90cdb6a3901erow0_col3\" class=\"data row0 col3\" >0.57</td>\n",
       "            </tr>\n",
       "            <tr>\n",
       "                        <th id=\"T_b37809ea_1320_11eb_97bf_90cdb6a3901elevel0_row1\" class=\"row_heading level0 row1\" >Cilindros</th>\n",
       "                        <td id=\"T_b37809ea_1320_11eb_97bf_90cdb6a3901erow1_col0\" class=\"data row1 col0\" >-0.13</td>\n",
       "                        <td id=\"T_b37809ea_1320_11eb_97bf_90cdb6a3901erow1_col1\" class=\"data row1 col1\" >1.0</td>\n",
       "                        <td id=\"T_b37809ea_1320_11eb_97bf_90cdb6a3901erow1_col2\" class=\"data row1 col2\" >0.00061</td>\n",
       "                        <td id=\"T_b37809ea_1320_11eb_97bf_90cdb6a3901erow1_col3\" class=\"data row1 col3\" >0.4</td>\n",
       "            </tr>\n",
       "            <tr>\n",
       "                        <th id=\"T_b37809ea_1320_11eb_97bf_90cdb6a3901elevel0_row2\" class=\"row_heading level0 row2\" >Popularidade</th>\n",
       "                        <td id=\"T_b37809ea_1320_11eb_97bf_90cdb6a3901erow2_col0\" class=\"data row2 col0\" >0.21</td>\n",
       "                        <td id=\"T_b37809ea_1320_11eb_97bf_90cdb6a3901erow2_col1\" class=\"data row2 col1\" >0.00061</td>\n",
       "                        <td id=\"T_b37809ea_1320_11eb_97bf_90cdb6a3901erow2_col2\" class=\"data row2 col2\" >1.0</td>\n",
       "                        <td id=\"T_b37809ea_1320_11eb_97bf_90cdb6a3901erow2_col3\" class=\"data row2 col3\" >0.11</td>\n",
       "            </tr>\n",
       "            <tr>\n",
       "                        <th id=\"T_b37809ea_1320_11eb_97bf_90cdb6a3901elevel0_row3\" class=\"row_heading level0 row3\" >Preco</th>\n",
       "                        <td id=\"T_b37809ea_1320_11eb_97bf_90cdb6a3901erow3_col0\" class=\"data row3 col0\" >0.57</td>\n",
       "                        <td id=\"T_b37809ea_1320_11eb_97bf_90cdb6a3901erow3_col1\" class=\"data row3 col1\" >0.4</td>\n",
       "                        <td id=\"T_b37809ea_1320_11eb_97bf_90cdb6a3901erow3_col2\" class=\"data row3 col2\" >0.11</td>\n",
       "                        <td id=\"T_b37809ea_1320_11eb_97bf_90cdb6a3901erow3_col3\" class=\"data row3 col3\" >1.0</td>\n",
       "            </tr>\n",
       "    </tbody></table>"
      ],
      "text/plain": [
       "<pandas.io.formats.style.Styler at 0x28414520670>"
      ]
     },
     "execution_count": 48,
     "metadata": {},
     "output_type": "execute_result"
    }
   ],
   "source": [
    "df.corr().style.format(\"{:.2}\").background_gradient(cmap=plt.get_cmap('coolwarm'), axis=1)"
   ]
  },
  {
   "cell_type": "code",
   "execution_count": 57,
   "metadata": {},
   "outputs": [
    {
     "data": {
      "text/plain": [
       "<AxesSubplot:xlabel='Preco', ylabel='Ano'>"
      ]
     },
     "execution_count": 57,
     "metadata": {},
     "output_type": "execute_result"
    },
    {
     "data": {
      "image/png": "[encoded data removed]",
      "text/plain": [
       "<Figure size 432x288 with 1 Axes>"
      ]
     },
     "metadata": {},
     "output_type": "display_data"
    }
   ],
   "source": [
    "sns.regplot(data=df, x=\"Preco\", y=\"Ano\")\n"
   ]
  },
  {
   "cell_type": "code",
   "execution_count": null,
   "metadata": {},
   "outputs": [],
   "source": []
  }
 ],
 "metadata": {
  "kernelspec": {
   "display_name": "Python 3",
   "language": "python",
   "name": "python3"
  },
  "language_info": {
   "codemirror_mode": {
    "name": "ipython",
    "version": 3
   },
   "file_extension": ".py",
   "mimetype": "text/x-python",
   "name": "python",
   "nbconvert_exporter": "python",
   "pygments_lexer": "ipython3",
   "version": "3.8.3"
  }
 },
 "nbformat": 4,
 "nbformat_minor": 4
}
