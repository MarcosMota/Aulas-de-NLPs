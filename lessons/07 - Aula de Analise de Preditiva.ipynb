{
 "cells": [
  {
   "cell_type": "markdown",
   "metadata": {
    "id": "6UBb1s8BXSIT"
   },
   "source": [
    "# Instalação das Dependecias"
   ]
  },
  {
   "cell_type": "code",
   "execution_count": 2,
   "metadata": {
    "id": "YUJH3FT8Xjrj"
   },
   "outputs": [],
   "source": [
    "import pandas as pd\n",
    "import seaborn as sns\n",
    "import numpy as np\n",
    "from sklearn.metrics import classification_report\n",
    "import matplotlib.pyplot as plt\n",
    "from sklearn import tree\n",
    "from sklearn.metrics import plot_confusion_matrix\n",
    "from sklearn.linear_model import LogisticRegression\n",
    "from sklearn.svm import SVC\n",
    "from sklearn import model_selection\n",
    "from sklearn.model_selection import train_test_split\n",
    "from sklearn.ensemble import RandomForestClassifier\n",
    "from sklearn.svm import LinearSVC\n",
    "from sklearn.metrics import accuracy_score"
   ]
  },
  {
   "cell_type": "markdown",
   "metadata": {
    "collapsed": "true",
    "id": "Slx5lHZKhX4v"
   },
   "source": [
    "# Ferramentas\n",
    "\n",
    "Para o estudo utilizamos a linguagem Python em conjunto as biblioteca Scikit-Learn, onde contém implementações de algoritmos de aprendizado de maquina, como SVM que será utilizada para classificação. Todos as ferramentas utilizadas no estudo são open source, sendo livre uso acadêmico e comercial.\n",
    "\n"
   ]
  },
  {
   "cell_type": "markdown",
   "metadata": {
    "collapsed": "true",
    "id": "YynuS_0UXYd5"
   },
   "source": [
    "# Conjunto de Dados\n",
    "\n",
    "A classificação de espécies de flores é um problema clássico e seu conjunto de dados é disponibilizado no repositório público da UCI (Centro de Machine Learning). Onde há um total de 150 observações, contendo três espécies de plantas (Setosa, Versicolor e Virginica). "
   ]
  },
  {
   "cell_type": "code",
   "execution_count": 3,
   "metadata": {
    "id": "lz7p0mBnKaY1"
   },
   "outputs": [],
   "source": [
    "SEED = 100\n",
    "\n",
    "## uri do arquivo csv que contem o dataset utilizado\n",
    "uri = 'https://gist.githubusercontent.com/netj/8836201/raw/6f9306ad21398ea43cba4f7d537619d0e07d5ae3/iris.csv'\n",
    "\n",
    "## através da biblioteca pandas, estamos baixando o arquivo csv, e carregando ele para que possa ser utilizado\n",
    "dados = pd.read_csv(uri)\n",
    "\n",
    "## iremos renomear os nossos cabecalho para que fique mais facil a manipulacao e o entendimento nosso dataset\n",
    "mapa = {\n",
    "    \"sepal.length\": \"sepala.comprimento\",\n",
    "    \"sepal.width\": \"sepala.largura\",\n",
    "    \"petal.length\":\"petala.comprimento\",\n",
    "    \"petal.width\":\"petala.largura\",\n",
    "    \"variety\":\"variedade\"\n",
    "}\n",
    "\n",
    "## estamos aplicando as alteracoes\n",
    "plantas_data = dados.rename(columns = mapa)\n",
    "plantas_data = plantas_data[plantas_data['variedade'] != 'Setosa']\n",
    "\n"
   ]
  },
  {
   "cell_type": "markdown",
   "metadata": {
    "id": "dJjplq_ihsso"
   },
   "source": [
    "# Pré processamento\n",
    "O **pré-processamento** é uma etapa importante no processo de aprendizado de máquina, é necessário preparar os dados. Se caso não realizarmos essa etapa nosso modelo pode conter viés e influenciar na sua precisão.\n"
   ]
  },
  {
   "cell_type": "code",
   "execution_count": 4,
   "metadata": {
    "id": "gPWwwb90mIeB"
   },
   "outputs": [],
   "source": [
    "features = plantas_data[[\"sepala.comprimento\", \"sepala.largura\", \"petala.comprimento\", \"petala.largura\"]]\n",
    "target = plantas_data[\"variedade\"]"
   ]
  },
  {
   "cell_type": "markdown",
   "metadata": {
    "id": "N6Fks8nSpjn-"
   },
   "source": [
    "## Seleção de Atributos\n",
    "\n",
    "O algoritmo **Random Forest** para realizar a seleção dos atributos. Ele consiste em gerar um grande número de árvores de decisão individuais que funcionam como um conjunto. Cada árvore individual na floresta aleatória produz uma previsão dos atributos e os atributos com mais score utilizaremos como entrada no SVM.\n",
    "\n",
    "Link: [Artigo sobre Random Forest](https://towardsdatascience.com/understanding-random-forest-58381e0602d2)\n",
    "\n"
   ]
  },
  {
   "cell_type": "code",
   "execution_count": 5,
   "metadata": {
    "colab": {
     "base_uri": "https://localhost:8080/",
     "height": 298
    },
    "id": "yI_R7I73piZL",
    "outputId": "e4037ced-ec4f-4794-f727-2c4b0faa727c"
   },
   "outputs": [
    {
     "data": {
      "text/plain": [
       "Text(0.5, 1.0, 'Importância de cada feature')"
      ]
     },
     "execution_count": 5,
     "metadata": {},
     "output_type": "execute_result"
    },
    {
     "data": {
      "image/png": "[encoded data removed]",
      "text/plain": [
       "<Figure size 432x288 with 1 Axes>"
      ]
     },
     "metadata": {
      "needs_background": "light"
     },
     "output_type": "display_data"
    }
   ],
   "source": [
    "# Treinando modelo\n",
    "model  = RandomForestClassifier(random_state = np.random.seed(SEED))\n",
    "model.fit(features, target)\n",
    "\n",
    "# Mostrando importância de cada feature\n",
    "importances = pd.Series(data=model.feature_importances_, index=[\"sepala.comprimento\", \"sepala.largura\", \"petala.comprimento\", \"petala.largura\"])\n",
    "sns.barplot(x=importances, y=importances.index, orient='h', order=[\"petala.comprimento\",\"petala.largura\", \"sepala.comprimento\", \"sepala.largura\"]).set_title('Importância de cada feature')"
   ]
  },
  {
   "cell_type": "markdown",
   "metadata": {
    "id": "_p_Ee33PXrBu"
   },
   "source": [
    "**Separação das features e target do dataset**\n",
    "\n",
    "Após passarmos os dados pelo Random Forest, conseguimos identificar que os atributos pétala  comprimento, pétala largura são expressivamente mais importantes que os outros atributos. Dessa forma, escolhemos realizar o treinamento apenas com os atributos pétala  comprimento, pétala largura."
   ]
  },
  {
   "cell_type": "code",
   "execution_count": 6,
   "metadata": {
    "id": "-EpPFoRCcwW1"
   },
   "outputs": [],
   "source": [
    "## iremos separar o x do seu correspondente em y\n",
    "x = plantas_data[[\"petala.comprimento\", \"petala.largura\"]]\n",
    "y = plantas_data[\"variedade\"]"
   ]
  },
  {
   "cell_type": "markdown",
   "metadata": {
    "id": "WRkKSRdjYE9v"
   },
   "source": [
    "**Separação dos dados de teste e dados de treino**\n",
    "\n",
    "Nesse ponto estamos passando para o algoritmo que ira separar oq sera usado de teste, para o treino do nosso dataset.\n",
    "\n",
    "O **seed** serve para que possamos controlar a aleatoriedade, e o teste se torne mais consiso.\n",
    "\n",
    "A propriedade **stratify** serve para que ele separe mantendo a proporcao de teste / treino."
   ]
  },
  {
   "cell_type": "code",
   "execution_count": 7,
   "metadata": {
    "id": "VnB9n-A-U8yO"
   },
   "outputs": [],
   "source": [
    "## estamos definindo um seed para o nosso algoritmo\n",
    "\n",
    "\n",
    "treino_x, teste_x, treino_y, teste_y = train_test_split(x, y, \n",
    "                            test_size = 0.25, random_state = SEED, stratify = y)"
   ]
  },
  {
   "cell_type": "markdown",
   "metadata": {
    "id": "tw8phOnAYguY"
   },
   "source": [
    "**Proporção dos dados**\n",
    "\n",
    "Como se pode notar os dados de treino e treino estão separados aleatoriamente e divido entre as espécies."
   ]
  },
  {
   "cell_type": "code",
   "execution_count": 8,
   "metadata": {
    "colab": {
     "base_uri": "https://localhost:8080/",
     "height": 312
    },
    "id": "joCLe4KAi0yk",
    "outputId": "f1b060f8-40ed-4145-ff7a-9b33ffbce2b7"
   },
   "outputs": [
    {
     "data": {
      "text/plain": [
       "Text(0.5, 1.0, 'Proporção dos dados de teste')"
      ]
     },
     "execution_count": 8,
     "metadata": {},
     "output_type": "execute_result"
    },
    {
     "data": {
      "image/png": "[encoded data removed]",
      "text/plain": [
       "<Figure size 432x288 with 1 Axes>"
      ]
     },
     "metadata": {
      "needs_background": "light"
     },
     "output_type": "display_data"
    }
   ],
   "source": [
    "sns.barplot(x=teste_y.value_counts(), y=teste_y.value_counts().index).set_title('Proporção dos dados de teste')"
   ]
  },
  {
   "cell_type": "code",
   "execution_count": 9,
   "metadata": {
    "colab": {
     "base_uri": "https://localhost:8080/",
     "height": 312
    },
    "id": "Dn-VA1Zjjn3n",
    "outputId": "6f194083-4eee-4231-caab-39f48cb7cc03"
   },
   "outputs": [
    {
     "data": {
      "text/plain": [
       "Text(0.5, 1.0, 'Proporção dos dados de treino')"
      ]
     },
     "execution_count": 9,
     "metadata": {},
     "output_type": "execute_result"
    },
    {
     "data": {
      "image/png": "[encoded data removed]",
      "text/plain": [
       "<Figure size 432x288 with 1 Axes>"
      ]
     },
     "metadata": {
      "needs_background": "light"
     },
     "output_type": "display_data"
    }
   ],
   "source": [
    "sns.barplot(x=treino_y.value_counts(), y=treino_y.value_counts().index).set_title('Proporção dos dados de treino')"
   ]
  },
  {
   "cell_type": "code",
   "execution_count": 10,
   "metadata": {
    "id": "x9VCzVCUkUs5"
   },
   "outputs": [],
   "source": [
    "# Precisa realizar a normalização"
   ]
  },
  {
   "cell_type": "markdown",
   "metadata": {
    "id": "sU9xsLuokhEn"
   },
   "source": [
    "## Validação de Dados\n",
    "\n",
    "K-Fold Cross Validation\n",
    "Para avaliar a acurácia do SVM utilizamos o método **k-fold cross validation**, onde consiste em dividir a base em k pedaços. Para cada pedaço, estimamos o método sem a presença desta parte e verificamos o erro médio no pedaço não utilizado durante o treino. Abaixo, um exemplo de 8-fold cross validation.\n"
   ]
  },
  {
   "cell_type": "markdown",
   "metadata": {
    "id": "Z7t0ggDbm1EM"
   },
   "source": [
    "## Treinamento\n",
    "Neste estudo iremos realizar a comparação entre diversos Modelos, sendo:\n",
    "\n",
    "*   SVM\n",
    "*   Regressão Logistica\n",
    "*   Arvore de Decisão\n",
    "\n"
   ]
  },
  {
   "cell_type": "code",
   "execution_count": 12,
   "metadata": {
    "colab": {
     "base_uri": "https://localhost:8080/"
    },
    "id": "Ffkdz-Edq-gh",
    "outputId": "21c0f976-32bb-4d15-d3d6-8bd2dc4d53ba"
   },
   "outputs": [
    {
     "name": "stderr",
     "output_type": "stream",
     "text": [
      "c:\\programdata\\miniconda3\\lib\\site-packages\\sklearn\\model_selection\\_split.py:293: FutureWarning: Setting a random_state has no effect since shuffle is False. This will raise an error in 0.24. You should leave random_state to its default (None), or set shuffle=True.\n",
      "  warnings.warn(\n",
      "c:\\programdata\\miniconda3\\lib\\site-packages\\sklearn\\model_selection\\_split.py:293: FutureWarning: Setting a random_state has no effect since shuffle is False. This will raise an error in 0.24. You should leave random_state to its default (None), or set shuffle=True.\n",
      "  warnings.warn(\n",
      "c:\\programdata\\miniconda3\\lib\\site-packages\\sklearn\\model_selection\\_split.py:293: FutureWarning: Setting a random_state has no effect since shuffle is False. This will raise an error in 0.24. You should leave random_state to its default (None), or set shuffle=True.\n",
      "  warnings.warn(\n",
      "c:\\programdata\\miniconda3\\lib\\site-packages\\sklearn\\model_selection\\_split.py:293: FutureWarning: Setting a random_state has no effect since shuffle is False. This will raise an error in 0.24. You should leave random_state to its default (None), or set shuffle=True.\n",
      "  warnings.warn(\n"
     ]
    }
   ],
   "source": [
    "from sklearn.naive_bayes import GaussianNB\n",
    "\n",
    "\n",
    "models = []\n",
    "models.append(('SVM', SVC(verbose=False)))\n",
    "models.append(('Regressão Logistica', LogisticRegression(verbose=False)))\n",
    "models.append(('Arvore de Decisão', tree.DecisionTreeClassifier()))\n",
    "models.append(('Naive Bayes', GaussianNB()))\n",
    "\n",
    "results = []\n",
    "names = []\n",
    "\n",
    "for name, model in models:\n",
    "  kfold = model_selection.KFold(n_splits=10, random_state=SEED)\n",
    "  model.fit(treino_x, treino_y)\n",
    "  cv_results = model_selection.cross_val_score(model, treino_x, treino_y, cv=kfold, scoring='accuracy')\n",
    "  results.append(cv_results)\n",
    "  names.append(name)\n",
    "\n"
   ]
  },
  {
   "cell_type": "code",
   "execution_count": 13,
   "metadata": {
    "colab": {
     "base_uri": "https://localhost:8080/",
     "height": 294
    },
    "id": "-djUjzBoIGWh",
    "outputId": "89e06677-f67c-4fd3-acb8-80744371d030"
   },
   "outputs": [
    {
     "name": "stderr",
     "output_type": "stream",
     "text": [
      "<ipython-input-13-0a4dd1c5abc7>:4: UserWarning: FixedFormatter should only be used together with FixedLocator\n",
      "  ax.set_xticklabels(names)\n"
     ]
    },
    {
     "data": {
      "image/png": "[encoded data removed]",
      "text/plain": [
       "<Figure size 432x288 with 1 Axes>"
      ]
     },
     "metadata": {
      "needs_background": "light"
     },
     "output_type": "display_data"
    }
   ],
   "source": [
    "fig = plt.figure()\n",
    "fig.suptitle('Comparação de Acurácia')\n",
    "ax = fig.add_subplot(111)\n",
    "ax.set_xticklabels(names)\n",
    "plt.boxplot(results)\n",
    "plt.show()"
   ]
  },
  {
   "cell_type": "code",
   "execution_count": null,
   "metadata": {
    "id": "ejNOfzBV7FUK"
   },
   "outputs": [],
   "source": []
  },
  {
   "cell_type": "code",
   "execution_count": 15,
   "metadata": {
    "colab": {
     "base_uri": "https://localhost:8080/",
     "height": 1000
    },
    "id": "Z9Mv8k0FIS7h",
    "outputId": "126428b1-a822-408e-baa9-eb92aaf6c07e"
   },
   "outputs": [
    {
     "name": "stdout",
     "output_type": "stream",
     "text": [
      "----------- Modelo: SVM -----------\n"
     ]
    },
    {
     "data": {
      "image/png": "[encoded data removed]",
      "text/plain": [
       "<Figure size 432x288 with 2 Axes>"
      ]
     },
     "metadata": {
      "needs_background": "light"
     },
     "output_type": "display_data"
    },
    {
     "name": "stdout",
     "output_type": "stream",
     "text": [
      "              precision    recall  f1-score   support\n",
      "\n",
      "  Versicolor       0.90      0.95      0.92        37\n",
      "   Virginica       0.94      0.89      0.92        38\n",
      "\n",
      "    accuracy                           0.92        75\n",
      "   macro avg       0.92      0.92      0.92        75\n",
      "weighted avg       0.92      0.92      0.92        75\n",
      "\n",
      "----------- Modelo: Regressão Logistica -----------\n"
     ]
    },
    {
     "data": {
      "image/png": "[encoded data removed]",
      "text/plain": [
       "<Figure size 432x288 with 2 Axes>"
      ]
     },
     "metadata": {
      "needs_background": "light"
     },
     "output_type": "display_data"
    },
    {
     "name": "stdout",
     "output_type": "stream",
     "text": [
      "              precision    recall  f1-score   support\n",
      "\n",
      "  Versicolor       0.94      0.92      0.93        37\n",
      "   Virginica       0.92      0.95      0.94        38\n",
      "\n",
      "    accuracy                           0.93        75\n",
      "   macro avg       0.93      0.93      0.93        75\n",
      "weighted avg       0.93      0.93      0.93        75\n",
      "\n",
      "----------- Modelo: Arvore de Decisão -----------\n"
     ]
    },
    {
     "data": {
      "image/png": "[encoded data removed]",
      "text/plain": [
       "<Figure size 432x288 with 2 Axes>"
      ]
     },
     "metadata": {
      "needs_background": "light"
     },
     "output_type": "display_data"
    },
    {
     "name": "stdout",
     "output_type": "stream",
     "text": [
      "              precision    recall  f1-score   support\n",
      "\n",
      "  Versicolor       0.97      1.00      0.99        37\n",
      "   Virginica       1.00      0.97      0.99        38\n",
      "\n",
      "    accuracy                           0.99        75\n",
      "   macro avg       0.99      0.99      0.99        75\n",
      "weighted avg       0.99      0.99      0.99        75\n",
      "\n",
      "----------- Modelo: Naive Bayes -----------\n"
     ]
    },
    {
     "data": {
      "image/png": "[encoded data removed]",
      "text/plain": [
       "<Figure size 432x288 with 2 Axes>"
      ]
     },
     "metadata": {
      "needs_background": "light"
     },
     "output_type": "display_data"
    },
    {
     "name": "stdout",
     "output_type": "stream",
     "text": [
      "              precision    recall  f1-score   support\n",
      "\n",
      "  Versicolor       0.92      0.92      0.92        37\n",
      "   Virginica       0.92      0.92      0.92        38\n",
      "\n",
      "    accuracy                           0.92        75\n",
      "   macro avg       0.92      0.92      0.92        75\n",
      "weighted avg       0.92      0.92      0.92        75\n",
      "\n"
     ]
    }
   ],
   "source": [
    "\n",
    "for model in models:\n",
    "  print(\"----------- Modelo: {0} -----------\".format(model[0]))\n",
    "  disp = plot_confusion_matrix(model[1], treino_x, treino_y)\n",
    "  disp.ax_.set_title(\"Modelo: {0}\".format(model[0]))\n",
    "  plt.show()\n",
    "\n",
    "  y_predict = model[1].predict(treino_x)\n",
    "  print(classification_report(treino_y, y_predict))\n",
    "\n"
   ]
  }
 ],
 "metadata": {
  "colab": {
   "collapsed_sections": [
    "N6Fks8nSpjn-"
   ],
   "name": "SVM Notebook - Dataset Iris",
   "provenance": []
  },
  "kernelspec": {
   "display_name": "Python 3",
   "language": "python",
   "name": "python3"
  },
  "language_info": {
   "codemirror_mode": {
    "name": "ipython",
    "version": 3
   },
   "file_extension": ".py",
   "mimetype": "text/x-python",
   "name": "python",
   "nbconvert_exporter": "python",
   "pygments_lexer": "ipython3",
   "version": "3.8.3"
  }
 },
 "nbformat": 4,
 "nbformat_minor": 4
}
