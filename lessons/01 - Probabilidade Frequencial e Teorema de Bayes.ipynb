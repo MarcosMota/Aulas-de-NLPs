{
 "cells": [
  {
   "cell_type": "markdown",
   "metadata": {},
   "source": [
    "# Resolvendo problemas com Probabilidade\n",
    "\n",
    "![title](img/capa.jpg)\n",
    "\n"
   ]
  },
  {
   "cell_type": "markdown",
   "metadata": {},
   "source": [
    "## Eventos Condicionais\n",
    "\n",
    "É considerado eventos condicionais quando a ocorrência de prévia de um evento aumenta ou diminui a ocorrência do outro.\n",
    "\n",
    "__Exemplo:__\n",
    "\n",
    "Suponhamos que uma pessoa que está saindo para trabalhar de manhã tem uma dúvida se leva ou não o guarda-chuva. Ao olhar  pela janela e observar o tempo e se o tempo estiver 'ruim' a probabilidade de sair com o guarda-chuva aumenta, dessa forma, podemos concluir que o evento 'tempo rum' e 'pegar guarda-chuva são condicionados'.\n",
    "\n"
   ]
  },
  {
   "cell_type": "markdown",
   "metadata": {},
   "source": [
    "### Calculando Probabilidade Condiconada\n",
    "\n",
    "Baseando-se nesta definição intuitiva da probabilidade, podemos calcular a probabilidade condicionada de B já que A, já ocorreu pela formula:\n",
    "\n",
    "$$P(B | A) = \\frac{P(B \\cap A)}{P(A)}$$\n"
   ]
  },
  {
   "cell_type": "markdown",
   "metadata": {},
   "source": [
    "__Exemplo:__\n",
    "Julia tirou férias por 10 dias e anotou a frequência que foi à para a praia"
   ]
  },
  {
   "cell_type": "code",
   "execution_count": 176,
   "metadata": {},
   "outputs": [
    {
     "data": {
      "text/html": [
       "<div>\n",
       "<style scoped>\n",
       "    .dataframe tbody tr th:only-of-type {\n",
       "        vertical-align: middle;\n",
       "    }\n",
       "\n",
       "    .dataframe tbody tr th {\n",
       "        vertical-align: top;\n",
       "    }\n",
       "\n",
       "    .dataframe thead th {\n",
       "        text-align: right;\n",
       "    }\n",
       "</style>\n",
       "<table border=\"1\" class=\"dataframe\">\n",
       "  <thead>\n",
       "    <tr style=\"text-align: right;\">\n",
       "      <th></th>\n",
       "      <th>Dia</th>\n",
       "      <th>Foi a praia</th>\n",
       "      <th>Fez sol</th>\n",
       "    </tr>\n",
       "  </thead>\n",
       "  <tbody>\n",
       "    <tr>\n",
       "      <th>0</th>\n",
       "      <td>1</td>\n",
       "      <td>N</td>\n",
       "      <td>N</td>\n",
       "    </tr>\n",
       "    <tr>\n",
       "      <th>1</th>\n",
       "      <td>2</td>\n",
       "      <td>S</td>\n",
       "      <td>S</td>\n",
       "    </tr>\n",
       "    <tr>\n",
       "      <th>2</th>\n",
       "      <td>3</td>\n",
       "      <td>N</td>\n",
       "      <td>N</td>\n",
       "    </tr>\n",
       "    <tr>\n",
       "      <th>3</th>\n",
       "      <td>4</td>\n",
       "      <td>S</td>\n",
       "      <td>S</td>\n",
       "    </tr>\n",
       "    <tr>\n",
       "      <th>4</th>\n",
       "      <td>5</td>\n",
       "      <td>S</td>\n",
       "      <td>N</td>\n",
       "    </tr>\n",
       "    <tr>\n",
       "      <th>5</th>\n",
       "      <td>6</td>\n",
       "      <td>N</td>\n",
       "      <td>S</td>\n",
       "    </tr>\n",
       "    <tr>\n",
       "      <th>6</th>\n",
       "      <td>7</td>\n",
       "      <td>S</td>\n",
       "      <td>S</td>\n",
       "    </tr>\n",
       "    <tr>\n",
       "      <th>7</th>\n",
       "      <td>8</td>\n",
       "      <td>N</td>\n",
       "      <td>N</td>\n",
       "    </tr>\n",
       "    <tr>\n",
       "      <th>8</th>\n",
       "      <td>9</td>\n",
       "      <td>S</td>\n",
       "      <td>S</td>\n",
       "    </tr>\n",
       "    <tr>\n",
       "      <th>9</th>\n",
       "      <td>10</td>\n",
       "      <td>S</td>\n",
       "      <td>S</td>\n",
       "    </tr>\n",
       "  </tbody>\n",
       "</table>\n",
       "</div>"
      ],
      "text/plain": [
       "   Dia Foi a praia Fez sol\n",
       "0    1           N       N\n",
       "1    2           S       S\n",
       "2    3           N       N\n",
       "3    4           S       S\n",
       "4    5           S       N\n",
       "5    6           N       S\n",
       "6    7           S       S\n",
       "7    8           N       N\n",
       "8    9           S       S\n",
       "9   10           S       S"
      ]
     },
     "execution_count": 176,
     "metadata": {},
     "output_type": "execute_result"
    }
   ],
   "source": [
    "df_praia = pd.read_csv('../data/praia.csv', encoding='ISO-8859-1')\n",
    "df_praia\n"
   ]
  },
  {
   "cell_type": "markdown",
   "metadata": {},
   "source": [
    "![title](img/draio.png)"
   ]
  },
  {
   "cell_type": "markdown",
   "metadata": {},
   "source": [
    "Observando o dataset, responda as seguintes perguntas:\n",
    "\n",
    " - a) Qual é a probabilidade de Júlia ir à praia?\n",
    " - b) Dado que fez sol, qual é a probabilidade da Júlia ir à praia?"
   ]
  },
  {
   "cell_type": "code",
   "execution_count": 189,
   "metadata": {},
   "outputs": [
    {
     "data": {
      "text/plain": [
       "0.6"
      ]
     },
     "execution_count": 189,
     "metadata": {},
     "output_type": "execute_result"
    }
   ],
   "source": [
    "# Qual é a probabilidade de Júlia ir à praia?\n",
    "\n",
    "# Intersercção de A e B \n",
    "n = len(df_praia)\n",
    "n_praia = len(df_praia[(df_praia['Foi a praia'] == \"S\")])\n",
    "p_praia_sol = n_praia / n\n",
    "p_praia_sol"
   ]
  },
  {
   "cell_type": "code",
   "execution_count": 196,
   "metadata": {},
   "outputs": [
    {
     "name": "stdout",
     "output_type": "stream",
     "text": [
      "5\n",
      "0.8333333333333334\n"
     ]
    }
   ],
   "source": [
    "# Dado que fez sol, qual é a probabilidade da Júlia ir à praia?\n",
    "n_praia_sol = len(df_praia[(df_praia['Foi a praia'] == \"S\") & (df_praia['Fez sol'] == \"S\")])\n",
    "\n",
    "# A -> Fez sol\n",
    "# B -> Ir a Praia\n",
    "\n",
    "# União -> + / OU\n",
    "# Intersecção -> * / E \n",
    "\n",
    "\n",
    "n_fez_sol = len(df_praia[(df_praia['Foi a praia'] == \"S\")])\n",
    "\n",
    "#P(A | B) => P(A) e B / P(B)\n",
    "\n",
    "print(n_praia_sol / n_fez_sol)"
   ]
  },
  {
   "cell_type": "markdown",
   "metadata": {},
   "source": [
    "## Teorema de Bayes\n",
    "\n",
    "![title](img/draio1.png)\n",
    "\n",
    "$$P(A | B) = \\frac{P(A \\cap  B)}{P(B)}$$\n"
   ]
  },
  {
   "cell_type": "code",
   "execution_count": 198,
   "metadata": {},
   "outputs": [
    {
     "data": {
      "text/html": [
       "<div>\n",
       "<style scoped>\n",
       "    .dataframe tbody tr th:only-of-type {\n",
       "        vertical-align: middle;\n",
       "    }\n",
       "\n",
       "    .dataframe tbody tr th {\n",
       "        vertical-align: top;\n",
       "    }\n",
       "\n",
       "    .dataframe thead th {\n",
       "        text-align: right;\n",
       "    }\n",
       "</style>\n",
       "<table border=\"1\" class=\"dataframe\">\n",
       "  <thead>\n",
       "    <tr style=\"text-align: right;\">\n",
       "      <th></th>\n",
       "      <th>v1</th>\n",
       "      <th>v2</th>\n",
       "      <th>Unnamed: 2</th>\n",
       "      <th>Unnamed: 3</th>\n",
       "      <th>Unnamed: 4</th>\n",
       "    </tr>\n",
       "  </thead>\n",
       "  <tbody>\n",
       "    <tr>\n",
       "      <th>0</th>\n",
       "      <td>ham</td>\n",
       "      <td>Go until jurong point, crazy.. Available only ...</td>\n",
       "      <td>NaN</td>\n",
       "      <td>NaN</td>\n",
       "      <td>NaN</td>\n",
       "    </tr>\n",
       "    <tr>\n",
       "      <th>1</th>\n",
       "      <td>ham</td>\n",
       "      <td>Ok lar... Joking wif u oni...</td>\n",
       "      <td>NaN</td>\n",
       "      <td>NaN</td>\n",
       "      <td>NaN</td>\n",
       "    </tr>\n",
       "    <tr>\n",
       "      <th>2</th>\n",
       "      <td>spam</td>\n",
       "      <td>Free entry in 2 a wkly comp to win FA Cup fina...</td>\n",
       "      <td>NaN</td>\n",
       "      <td>NaN</td>\n",
       "      <td>NaN</td>\n",
       "    </tr>\n",
       "    <tr>\n",
       "      <th>3</th>\n",
       "      <td>ham</td>\n",
       "      <td>U dun say so early hor... U c already then say...</td>\n",
       "      <td>NaN</td>\n",
       "      <td>NaN</td>\n",
       "      <td>NaN</td>\n",
       "    </tr>\n",
       "    <tr>\n",
       "      <th>4</th>\n",
       "      <td>ham</td>\n",
       "      <td>Nah I don't think he goes to usf, he lives aro...</td>\n",
       "      <td>NaN</td>\n",
       "      <td>NaN</td>\n",
       "      <td>NaN</td>\n",
       "    </tr>\n",
       "  </tbody>\n",
       "</table>\n",
       "</div>"
      ],
      "text/plain": [
       "     v1                                                 v2 Unnamed: 2  \\\n",
       "0   ham  Go until jurong point, crazy.. Available only ...        NaN   \n",
       "1   ham                      Ok lar... Joking wif u oni...        NaN   \n",
       "2  spam  Free entry in 2 a wkly comp to win FA Cup fina...        NaN   \n",
       "3   ham  U dun say so early hor... U c already then say...        NaN   \n",
       "4   ham  Nah I don't think he goes to usf, he lives aro...        NaN   \n",
       "\n",
       "  Unnamed: 3 Unnamed: 4  \n",
       "0        NaN        NaN  \n",
       "1        NaN        NaN  \n",
       "2        NaN        NaN  \n",
       "3        NaN        NaN  \n",
       "4        NaN        NaN  "
      ]
     },
     "execution_count": 198,
     "metadata": {},
     "output_type": "execute_result"
    }
   ],
   "source": [
    "import pandas as pd\n",
    "import numpy as np\n",
    "\n",
    "# Importando o dataset\n",
    "df = pd.read_csv('../data/spam.csv', encoding='ISO-8859-1')\n",
    "\n",
    "df['sms'] = df['v2']\n",
    "df['spam'] = np.where(df['v1'] == 'spam', 1, 0)\n",
    "df = df[['sms','spam']]\n",
    "\n",
    "df.head()"
   ]
  },
  {
   "cell_type": "code",
   "execution_count": 208,
   "metadata": {},
   "outputs": [
    {
     "data": {
      "text/html": [
       "<div>\n",
       "<style scoped>\n",
       "    .dataframe tbody tr th:only-of-type {\n",
       "        vertical-align: middle;\n",
       "    }\n",
       "\n",
       "    .dataframe tbody tr th {\n",
       "        vertical-align: top;\n",
       "    }\n",
       "\n",
       "    .dataframe thead th {\n",
       "        text-align: right;\n",
       "    }\n",
       "</style>\n",
       "<table border=\"1\" class=\"dataframe\">\n",
       "  <thead>\n",
       "    <tr style=\"text-align: right;\">\n",
       "      <th></th>\n",
       "      <th>sms</th>\n",
       "      <th>spam</th>\n",
       "    </tr>\n",
       "  </thead>\n",
       "  <tbody>\n",
       "    <tr>\n",
       "      <th>0</th>\n",
       "      <td>Go until jurong point, crazy.. Available only ...</td>\n",
       "      <td>0</td>\n",
       "    </tr>\n",
       "    <tr>\n",
       "      <th>1</th>\n",
       "      <td>Ok lar... Joking wif u oni...</td>\n",
       "      <td>0</td>\n",
       "    </tr>\n",
       "    <tr>\n",
       "      <th>2</th>\n",
       "      <td>Free entry in 2 a wkly comp to win FA Cup fina...</td>\n",
       "      <td>1</td>\n",
       "    </tr>\n",
       "    <tr>\n",
       "      <th>3</th>\n",
       "      <td>U dun say so early hor... U c already then say...</td>\n",
       "      <td>0</td>\n",
       "    </tr>\n",
       "    <tr>\n",
       "      <th>4</th>\n",
       "      <td>Nah I don't think he goes to usf, he lives aro...</td>\n",
       "      <td>0</td>\n",
       "    </tr>\n",
       "  </tbody>\n",
       "</table>\n",
       "</div>"
      ],
      "text/plain": [
       "                                                 sms  spam\n",
       "0  Go until jurong point, crazy.. Available only ...     0\n",
       "1                      Ok lar... Joking wif u oni...     0\n",
       "2  Free entry in 2 a wkly comp to win FA Cup fina...     1\n",
       "3  U dun say so early hor... U c already then say...     0\n",
       "4  Nah I don't think he goes to usf, he lives aro...     0"
      ]
     },
     "execution_count": 208,
     "metadata": {},
     "output_type": "execute_result"
    }
   ],
   "source": [
    "\n",
    "df['sms'] = df['v2']\n",
    "df['spam'] = np.where(df['v1'] == 'spam', 1, 0)\n",
    "df = df[['sms','spam']]\n",
    "df.head()"
   ]
  },
  {
   "cell_type": "code",
   "execution_count": 209,
   "metadata": {},
   "outputs": [],
   "source": [
    "spam_df = df.loc[df['spam'] == 1]\n",
    "legitimo_df = df.loc[df['spam'] == 0]\n",
    "\n",
    "qtd_span = len(spam_df)\n",
    "qtd_legitimo = len(legitimo_df)\n",
    "\n"
   ]
  },
  {
   "cell_type": "code",
   "execution_count": 227,
   "metadata": {},
   "outputs": [
    {
     "data": {
      "text/plain": [
       "{'got': 8,\n",
       " 'ok': 19,\n",
       " 'free': 5,\n",
       " 'text': 24,\n",
       " 'txt': 27,\n",
       " 'don': 3,\n",
       " 'like': 13,\n",
       " 'send': 21,\n",
       " 'home': 10,\n",
       " 'want': 29,\n",
       " 'today': 26,\n",
       " 'day': 2,\n",
       " 'reply': 20,\n",
       " 'dont': 4,\n",
       " 'ur': 28,\n",
       " 'going': 6,\n",
       " 'da': 1,\n",
       " 'lor': 15,\n",
       " 'just': 11,\n",
       " 'love': 16,\n",
       " 'll': 14,\n",
       " 'know': 12,\n",
       " 'need': 18,\n",
       " 'lt': 17,\n",
       " 'gt': 9,\n",
       " 'time': 25,\n",
       " 'sorry': 22,\n",
       " 'good': 7,\n",
       " 'come': 0,\n",
       " 'stop': 23}"
      ]
     },
     "execution_count": 227,
     "metadata": {},
     "output_type": "execute_result"
    }
   ],
   "source": [
    "vectorizer_spam = CountVectorizer(stop_words='english', max_features=30)\n",
    "vectorizer_spam.fit(df['sms'])\n",
    "#vectorizer_spam.vocabulary_\n",
    "vectorizer_spam.vocabulary_"
   ]
  },
  {
   "cell_type": "code",
   "execution_count": null,
   "metadata": {},
   "outputs": [],
   "source": [
    "# Produto é muito bom bom bom -> documento\n",
    "# "
   ]
  },
  {
   "cell_type": "code",
   "execution_count": 210,
   "metadata": {},
   "outputs": [
    {
     "data": {
      "text/plain": [
       "0.08701472556894244"
      ]
     },
     "execution_count": 210,
     "metadata": {},
     "output_type": "execute_result"
    }
   ],
   "source": [
    "def prob_palavra_dado_spam(palavra):\n",
    "    # \n",
    "    qtd_spam_com_a_palavra = len([row for idx,row in spam_df.iterrows() if palavra in row.sms])\n",
    "    \n",
    "    qtd_span = spam_df.spam.count()\n",
    "    \n",
    "    return qtd_spam_com_a_palavra/ qtd_span  if qtd_spam_com_a_palavra > 0 else 0 \n",
    "\n",
    "prob_palavra_dado_spam('win')\n",
    "    "
   ]
  },
  {
   "cell_type": "code",
   "execution_count": 211,
   "metadata": {},
   "outputs": [],
   "source": [
    "def probabilidade_spam():\n",
    "    return len(spam_df) / (len(df))\n",
    "\n",
    "def probabilidade_legitimo():\n",
    "    return len(legitimo_df) / (len(df))"
   ]
  },
  {
   "cell_type": "code",
   "execution_count": 216,
   "metadata": {},
   "outputs": [
    {
     "data": {
      "text/plain": [
       "0.0007178750897343862"
      ]
     },
     "execution_count": 216,
     "metadata": {},
     "output_type": "execute_result"
    }
   ],
   "source": [
    "def prob_palavra(palavra):\n",
    "    qtd_palavra_no_sms = len([row for idx,row in df.iterrows() if palavra in row.sms])\n",
    "    qtd_sms = len(df)\n",
    "    \n",
    "    return qtd_palavra_no_sms / qtd_sms if qtd_palavra_no_sms > 0 else 0 \n",
    "\n",
    "prob_palavra('click')"
   ]
  },
  {
   "cell_type": "code",
   "execution_count": 220,
   "metadata": {},
   "outputs": [],
   "source": [
    "def prob_spam_dado_palavra(palavra):\n",
    "    ''' Retorna a Probabilidade '''\n",
    "    p_palavra_dado_spam = prob_palavra_dado_spam(palavra)\n",
    "    p_spam = probabilidade_spam()    \n",
    "    p_palavra = prob_palavra(palavra)\n",
    "    return (p_palavra_dado_spam * p_spam) / p_palavra\n"
   ]
  },
  {
   "cell_type": "code",
   "execution_count": null,
   "metadata": {},
   "outputs": [],
   "source": []
  },
  {
   "cell_type": "code",
   "execution_count": 224,
   "metadata": {},
   "outputs": [
    {
     "data": {
      "text/plain": [
       "0.07741935483870968"
      ]
     },
     "execution_count": 224,
     "metadata": {},
     "output_type": "execute_result"
    }
   ],
   "source": [
    "prob_spam_dado_palavra('think')\n",
    "\n"
   ]
  },
  {
   "cell_type": "code",
   "execution_count": null,
   "metadata": {},
   "outputs": [],
   "source": []
  }
 ],
 "metadata": {
  "kernelspec": {
   "display_name": "Python 3",
   "language": "python",
   "name": "python3"
  },
  "language_info": {
   "codemirror_mode": {
    "name": "ipython",
    "version": 3
   },
   "file_extension": ".py",
   "mimetype": "text/x-python",
   "name": "python",
   "nbconvert_exporter": "python",
   "pygments_lexer": "ipython3",
   "version": "3.8.3"
  }
 },
 "nbformat": 4,
 "nbformat_minor": 4
}
