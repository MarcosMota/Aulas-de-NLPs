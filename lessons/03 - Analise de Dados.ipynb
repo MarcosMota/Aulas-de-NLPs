{
 "cells": [
  {
   "cell_type": "markdown",
   "metadata": {},
   "source": [
    "# Exercícios de Pandas"
   ]
  },
  {
   "cell_type": "markdown",
   "metadata": {},
   "source": [
    "-   [Pandas Data Series [ 40 exercises with solution ]](https://www.w3resource.com/python-exercises/pandas/index-data-series.php)\n",
    "-   [Pandas DataFrame [ 81 exercises with solution ]](https://www.w3resource.com/python-exercises/pandas/index-dataframe.php)\n",
    "-   [Pandas Index [ 26 exercises with solution ]](https://www.w3resource.com/python-exercises/pandas/index/index.php)\n",
    "-   [Pandas String and Regular Expression [ 41 exercises with solution ]](https://www.w3resource.com/python-exercises/pandas/string/index.php)\n",
    "-   [Pandas Joining and merging DataFrames [ 15 exercises with solution ]](https://www.w3resource.com/python-exercises/pandas/joining-and-merging/index.php)\n",
    "-   [Pandas Filter [ 27 exercises with solution ]](https://www.w3resource.com/python-exercises/pandas/filter/index.php)\n",
    "-   [Pandas Grouping and Aggregating [ 32 exercises with solution ]](https://www.w3resource.com/python-exercises/pandas/groupby/index.php)\n",
    "-   [Pandas Handling Missing Values [ 20 exercises with solution ]](https://www.w3resource.com/python-exercises/pandas/missing-values/index.php)\n"
   ]
  }
 ],
 "metadata": {
  "kernelspec": {
   "display_name": "Python 3",
   "language": "python",
   "name": "python3"
  },
  "language_info": {
   "codemirror_mode": {
    "name": "ipython",
    "version": 3
   },
   "file_extension": ".py",
   "mimetype": "text/x-python",
   "name": "python",
   "nbconvert_exporter": "python",
   "pygments_lexer": "ipython3",
   "version": "3.8.3"
  }
 },
 "nbformat": 4,
 "nbformat_minor": 4
}
