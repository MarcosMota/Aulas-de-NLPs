{
  "nbformat": 4,
  "nbformat_minor": 0,
  "metadata": {
    "colab": {
      "name": "SVM Notebook - Dataset Iris",
      "provenance": [],
      "collapsed_sections": [
        "N6Fks8nSpjn-"
      ]
    },
    "kernelspec": {
      "name": "python3",
      "display_name": "Python 3"
    }
  },
  "cells": [
    {
      "cell_type": "markdown",
      "metadata": {
        "id": "6UBb1s8BXSIT"
      },
      "source": [
        "# Instalação das Dependecias"
      ]
    },
    {
      "cell_type": "code",
      "metadata": {
        "id": "14GLy9tWucCj",
        "outputId": "b1f2ac1d-ee25-4a0b-83b5-00b89673b312",
        "colab": {
          "base_uri": "https://localhost:8080/",
          "height": 241
        }
      },
      "source": [
        "!pip install seaborn==0.9.0"
      ],
      "execution_count": null,
      "outputs": [
        {
          "output_type": "stream",
          "text": [
            "Requirement already satisfied: seaborn==0.9.0 in /usr/local/lib/python3.6/dist-packages (0.9.0)\n",
            "Requirement already satisfied: numpy>=1.9.3 in /usr/local/lib/python3.6/dist-packages (from seaborn==0.9.0) (1.17.4)\n",
            "Requirement already satisfied: scipy>=0.14.0 in /usr/local/lib/python3.6/dist-packages (from seaborn==0.9.0) (1.3.2)\n",
            "Requirement already satisfied: pandas>=0.15.2 in /usr/local/lib/python3.6/dist-packages (from seaborn==0.9.0) (0.25.3)\n",
            "Requirement already satisfied: matplotlib>=1.4.3 in /usr/local/lib/python3.6/dist-packages (from seaborn==0.9.0) (3.1.1)\n",
            "Requirement already satisfied: pytz>=2017.2 in /usr/local/lib/python3.6/dist-packages (from pandas>=0.15.2->seaborn==0.9.0) (2018.9)\n",
            "Requirement already satisfied: python-dateutil>=2.6.1 in /usr/local/lib/python3.6/dist-packages (from pandas>=0.15.2->seaborn==0.9.0) (2.6.1)\n",
            "Requirement already satisfied: pyparsing!=2.0.4,!=2.1.2,!=2.1.6,>=2.0.1 in /usr/local/lib/python3.6/dist-packages (from matplotlib>=1.4.3->seaborn==0.9.0) (2.4.5)\n",
            "Requirement already satisfied: kiwisolver>=1.0.1 in /usr/local/lib/python3.6/dist-packages (from matplotlib>=1.4.3->seaborn==0.9.0) (1.1.0)\n",
            "Requirement already satisfied: cycler>=0.10 in /usr/local/lib/python3.6/dist-packages (from matplotlib>=1.4.3->seaborn==0.9.0) (0.10.0)\n",
            "Requirement already satisfied: six>=1.5 in /usr/local/lib/python3.6/dist-packages (from python-dateutil>=2.6.1->pandas>=0.15.2->seaborn==0.9.0) (1.12.0)\n",
            "Requirement already satisfied: setuptools in /usr/local/lib/python3.6/dist-packages (from kiwisolver>=1.0.1->matplotlib>=1.4.3->seaborn==0.9.0) (41.6.0)\n"
          ],
          "name": "stdout"
        }
      ]
    },
    {
      "cell_type": "code",
      "metadata": {
        "id": "YUJH3FT8Xjrj"
      },
      "source": [
        "import pandas as pd\n",
        "import seaborn as sns\n",
        "import numpy as np\n",
        "from sklearn.metrics import classification_report\n",
        "import matplotlib.pyplot as plt\n",
        "from sklearn import tree\n",
        "from sklearn.metrics import plot_confusion_matrix\n",
        "from sklearn.linear_model import LogisticRegression\n",
        "from sklearn.svm import SVC\n",
        "from sklearn import model_selection\n",
        "from sklearn.model_selection import train_test_split\n",
        "from sklearn.ensemble import RandomForestClassifier\n",
        "from sklearn.svm import LinearSVC\n",
        "from sklearn.metrics import accuracy_score"
      ],
      "execution_count": null,
      "outputs": []
    },
    {
      "cell_type": "markdown",
      "metadata": {
        "id": "Slx5lHZKhX4v"
      },
      "source": [
        "# Ferramentas\n",
        "\n",
        "Para o estudo utilizamos a linguagem Python em conjunto as biblioteca Scikit-Learn, onde contém implementações de algoritmos de aprendizado de maquina, como SVM que será utilizada para classificação. Todos as ferramentas utilizadas no estudo são open source, sendo livre uso acadêmico e comercial.\n",
        "\n"
      ]
    },
    {
      "cell_type": "markdown",
      "metadata": {
        "id": "YynuS_0UXYd5"
      },
      "source": [
        "# Conjunto de Dados\n",
        "\n",
        "A classificação de espécies de flores é um problema clássico e seu conjunto de dados é disponibilizado no repositório público da UCI (Centro de Machine Learning). Onde há um total de 150 observações, contendo três espécies de plantas (Setosa, Versicolor e Virginica). "
      ]
    },
    {
      "cell_type": "code",
      "metadata": {
        "id": "lz7p0mBnKaY1"
      },
      "source": [
        "SEED = 100\n",
        "\n",
        "## uri do arquivo csv que contem o dataset utilizado\n",
        "uri = 'https://gist.githubusercontent.com/netj/8836201/raw/6f9306ad21398ea43cba4f7d537619d0e07d5ae3/iris.csv'\n",
        "\n",
        "## através da biblioteca pandas, estamos baixando o arquivo csv, e carregando ele para que possa ser utilizado\n",
        "dados = pd.read_csv(uri)\n",
        "\n",
        "## iremos renomear os nossos cabecalho para que fique mais facil a manipulacao e o entendimento nosso dataset\n",
        "mapa = {\n",
        "    \"sepal.length\": \"sepala.comprimento\",\n",
        "    \"sepal.width\": \"sepala.largura\",\n",
        "    \"petal.length\":\"petala.comprimento\",\n",
        "    \"petal.width\":\"petala.largura\",\n",
        "    \"variety\":\"variedade\"\n",
        "}\n",
        "\n",
        "## estamos aplicando as alteracoes\n",
        "plantas_data = dados.rename(columns = mapa)\n",
        "plantas_data = plantas_data[plantas_data['variedade'] != 'Setosa']\n",
        "\n"
      ],
      "execution_count": null,
      "outputs": []
    },
    {
      "cell_type": "markdown",
      "metadata": {
        "id": "dJjplq_ihsso"
      },
      "source": [
        "# Pré processamento\n",
        "O **pré-processamento** é uma etapa importante no processo de aprendizado de máquina, é necessário preparar os dados. Se caso não realizarmos essa etapa nosso modelo pode conter viés e influenciar na sua precisão.\n"
      ]
    },
    {
      "cell_type": "code",
      "metadata": {
        "id": "gPWwwb90mIeB"
      },
      "source": [
        "features = plantas_data[[\"sepala.comprimento\", \"sepala.largura\", \"petala.comprimento\", \"petala.largura\"]]\n",
        "target = plantas_data[\"variedade\"]"
      ],
      "execution_count": null,
      "outputs": []
    },
    {
      "cell_type": "markdown",
      "metadata": {
        "id": "N6Fks8nSpjn-"
      },
      "source": [
        "## Seleção de Atributos\n",
        "\n",
        "O algoritmo **Random Forest** para realizar a seleção dos atributos. Ele consiste em gerar um grande número de árvores de decisão individuais que funcionam como um conjunto. Cada árvore individual na floresta aleatória produz uma previsão dos atributos e os atributos com mais score utilizaremos como entrada no SVM.\n",
        "\n",
        "Link: [Artigo sobre Random Forest](https://towardsdatascience.com/understanding-random-forest-58381e0602d2)\n",
        "\n"
      ]
    },
    {
      "cell_type": "code",
      "metadata": {
        "id": "yI_R7I73piZL",
        "outputId": "e4037ced-ec4f-4794-f727-2c4b0faa727c",
        "colab": {
          "base_uri": "https://localhost:8080/",
          "height": 298
        }
      },
      "source": [
        "# Treinando modelo\n",
        "model  = RandomForestClassifier(random_state = np.random.seed(SEED))\n",
        "model.fit(features, target)\n",
        "\n",
        "# Mostrando importância de cada feature\n",
        "importances = pd.Series(data=model.feature_importances_, index=[\"sepala.comprimento\", \"sepala.largura\", \"petala.comprimento\", \"petala.largura\"])\n",
        "sns.barplot(x=importances, y=importances.index, orient='h', order=[\"petala.comprimento\",\"petala.largura\", \"sepala.comprimento\", \"sepala.largura\"]).set_title('Importância de cada feature')"
      ],
      "execution_count": null,
      "outputs": [
        {
          "output_type": "execute_result",
          "data": {
            "text/plain": [
              "Text(0.5, 1.0, 'Importância de cada feature')"
            ]
          },
          "metadata": {
            "tags": []
          },
          "execution_count": 51
        },
        {
          "output_type": "display_data",
          "data": {
            "image/png": "[encoded data removed]",
            "text/plain": [
              "<Figure size 432x288 with 1 Axes>"
            ]
          },
          "metadata": {
            "tags": [],
            "needs_background": "light"
          }
        }
      ]
    },
    {
      "cell_type": "markdown",
      "metadata": {
        "id": "_p_Ee33PXrBu"
      },
      "source": [
        "**Separação das features e target do dataset**\n",
        "\n",
        "Após passarmos os dados pelo Random Forest, conseguimos identificar que os atributos pétala  comprimento, pétala largura são expressivamente mais importantes que os outros atributos. Dessa forma, escolhemos realizar o treinamento apenas com os atributos pétala  comprimento, pétala largura."
      ]
    },
    {
      "cell_type": "code",
      "metadata": {
        "id": "-EpPFoRCcwW1"
      },
      "source": [
        "## iremos separar o x do seu correspondente em y\n",
        "x = plantas_data[[\"petala.comprimento\", \"petala.largura\"]]\n",
        "y = plantas_data[\"variedade\"]"
      ],
      "execution_count": null,
      "outputs": []
    },
    {
      "cell_type": "markdown",
      "metadata": {
        "id": "WRkKSRdjYE9v"
      },
      "source": [
        "**Separação dos dados de teste e dados de treino**\n",
        "\n",
        "Nesse ponto estamos passando para o algoritmo que ira separar oq sera usado de teste, para o treino do nosso dataset.\n",
        "\n",
        "O **seed** serve para que possamos controlar a aleatoriedade, e o teste se torne mais consiso.\n",
        "\n",
        "A propriedade **stratify** serve para que ele separe mantendo a proporcao de teste / treino."
      ]
    },
    {
      "cell_type": "code",
      "metadata": {
        "id": "VnB9n-A-U8yO"
      },
      "source": [
        "## estamos definindo um seed para o nosso algoritmo\n",
        "\n",
        "\n",
        "treino_x, teste_x, treino_y, teste_y = train_test_split(x, y, \n",
        "                            test_size = 0.25, random_state = SEED, stratify = y)"
      ],
      "execution_count": null,
      "outputs": []
    },
    {
      "cell_type": "markdown",
      "metadata": {
        "id": "tw8phOnAYguY"
      },
      "source": [
        "**Proporção dos dados**\n",
        "\n",
        "Como se pode notar os dados de treino e treino estão separados aleatoriamente e divido entre as espécies."
      ]
    },
    {
      "cell_type": "code",
      "metadata": {
        "id": "joCLe4KAi0yk",
        "outputId": "f1b060f8-40ed-4145-ff7a-9b33ffbce2b7",
        "colab": {
          "base_uri": "https://localhost:8080/",
          "height": 312
        }
      },
      "source": [
        "sns.barplot(x=teste_y.value_counts(), y=teste_y.value_counts().index).set_title('Proporção dos dados de teste')"
      ],
      "execution_count": null,
      "outputs": [
        {
          "output_type": "execute_result",
          "data": {
            "text/plain": [
              "Text(0.5, 1.0, 'Proporção dos dados de teste')"
            ]
          },
          "metadata": {
            "tags": []
          },
          "execution_count": 54
        },
        {
          "output_type": "display_data",
          "data": {
            "image/png": "[encoded data removed]",
            "text/plain": [
              "<Figure size 432x288 with 1 Axes>"
            ]
          },
          "metadata": {
            "tags": [],
            "needs_background": "light"
          }
        }
      ]
    },
    {
      "cell_type": "code",
      "metadata": {
        "id": "Dn-VA1Zjjn3n",
        "outputId": "6f194083-4eee-4231-caab-39f48cb7cc03",
        "colab": {
          "base_uri": "https://localhost:8080/",
          "height": 312
        }
      },
      "source": [
        "sns.barplot(x=treino_y.value_counts(), y=treino_y.value_counts().index).set_title('Proporção dos dados de treino')"
      ],
      "execution_count": null,
      "outputs": [
        {
          "output_type": "execute_result",
          "data": {
            "text/plain": [
              "Text(0.5, 1.0, 'Proporção dos dados de treino')"
            ]
          },
          "metadata": {
            "tags": []
          },
          "execution_count": 55
        },
        {
          "output_type": "display_data",
          "data": {
            "image/png": "[encoded data removed]",
            "text/plain": [
              "<Figure size 432x288 with 1 Axes>"
            ]
          },
          "metadata": {
            "tags": [],
            "needs_background": "light"
          }
        }
      ]
    },
    {
      "cell_type": "code",
      "metadata": {
        "id": "x9VCzVCUkUs5"
      },
      "source": [
        "# Precisa realizar a normalização"
      ],
      "execution_count": null,
      "outputs": []
    },
    {
      "cell_type": "markdown",
      "metadata": {
        "id": "sU9xsLuokhEn"
      },
      "source": [
        "## Validação de Dados\n",
        "\n",
        "K-Fold Cross Validation\n",
        "Para avaliar a acurácia do SVM utilizamos o método **k-fold cross validation**, onde consiste em dividir a base em k pedaços. Para cada pedaço, estimamos o método sem a presença desta parte e verificamos o erro médio no pedaço não utilizado durante o treino. Abaixo, um exemplo de 8-fold cross validation.\n"
      ]
    },
    {
      "cell_type": "markdown",
      "metadata": {
        "id": "Z7t0ggDbm1EM"
      },
      "source": [
        "## Treinamento\n",
        "Neste estudo iremos realizar a comparação entre diversos Modelos, sendo:\n",
        "\n",
        "*   SVM\n",
        "*   Regressão Logistica\n",
        "*   Arvore de Decisão\n",
        "\n"
      ]
    },
    {
      "cell_type": "code",
      "metadata": {
        "id": "Ffkdz-Edq-gh",
        "outputId": "21c0f976-32bb-4d15-d3d6-8bd2dc4d53ba",
        "colab": {
          "base_uri": "https://localhost:8080/"
        }
      },
      "source": [
        "\n",
        "\n",
        "models = []\n",
        "models.append(('SVM', SVC(verbose=False)))\n",
        "models.append(('Regressão Logistica', LogisticRegression(verbose=False)))\n",
        "models.append(('Arvore de Decisão', tree.DecisionTreeClassifier()))\n",
        "\n",
        "results = []\n",
        "names = []\n",
        "\n",
        "for name, model in models:\n",
        "  kfold = model_selection.KFold(n_splits=10, random_state=SEED)\n",
        "  model.fit(treino_x, treino_y)\n",
        "  cv_results = model_selection.cross_val_score(model, treino_x, treino_y, cv=kfold, scoring='accuracy')\n",
        "  results.append(cv_results)\n",
        "  names.append(name)\n",
        "\n"
      ],
      "execution_count": null,
      "outputs": [
        {
          "output_type": "stream",
          "text": [
            "/usr/local/lib/python3.6/dist-packages/sklearn/model_selection/_split.py:296: FutureWarning: Setting a random_state has no effect since shuffle is False. This will raise an error in 0.24. You should leave random_state to its default (None), or set shuffle=True.\n",
            "  FutureWarning\n",
            "/usr/local/lib/python3.6/dist-packages/sklearn/model_selection/_split.py:296: FutureWarning: Setting a random_state has no effect since shuffle is False. This will raise an error in 0.24. You should leave random_state to its default (None), or set shuffle=True.\n",
            "  FutureWarning\n",
            "/usr/local/lib/python3.6/dist-packages/sklearn/model_selection/_split.py:296: FutureWarning: Setting a random_state has no effect since shuffle is False. This will raise an error in 0.24. You should leave random_state to its default (None), or set shuffle=True.\n",
            "  FutureWarning\n"
          ],
          "name": "stderr"
        }
      ]
    },
    {
      "cell_type": "code",
      "metadata": {
        "id": "-djUjzBoIGWh",
        "outputId": "89e06677-f67c-4fd3-acb8-80744371d030",
        "colab": {
          "base_uri": "https://localhost:8080/",
          "height": 294
        }
      },
      "source": [
        "fig = plt.figure()\n",
        "fig.suptitle('Comparação de Acurácia')\n",
        "ax = fig.add_subplot(111)\n",
        "ax.set_xticklabels(names)\n",
        "plt.boxplot(results)\n",
        "plt.show()"
      ],
      "execution_count": null,
      "outputs": [
        {
          "output_type": "display_data",
          "data": {
            "image/png": "[encoded data removed]",
            "text/plain": [
              "<Figure size 432x288 with 1 Axes>"
            ]
          },
          "metadata": {
            "tags": [],
            "needs_background": "light"
          }
        }
      ]
    },
    {
      "cell_type": "code",
      "metadata": {
        "id": "ejNOfzBV7FUK"
      },
      "source": [
        ""
      ],
      "execution_count": null,
      "outputs": []
    },
    {
      "cell_type": "code",
      "metadata": {
        "id": "Z9Mv8k0FIS7h",
        "outputId": "126428b1-a822-408e-baa9-eb92aaf6c07e",
        "colab": {
          "base_uri": "https://localhost:8080/",
          "height": 1000
        }
      },
      "source": [
        "\n",
        "for model in models:\n",
        "  print(\"----------- Modelo: {0} -----------\".format(model[0]))\n",
        "  disp = plot_confusion_matrix(model[1], treino_x, treino_y)\n",
        "  disp.ax_.set_title(\"Modelo: {0}\".format(model[0]))\n",
        "  plt.show()\n",
        "\n",
        "  y_predict = model[1].predict(treino_x)\n",
        "  print(classification_report(treino_y, y_predict))\n",
        "\n"
      ],
      "execution_count": null,
      "outputs": [
        {
          "output_type": "stream",
          "text": [
            "----------- Modelo: SVM -----------\n"
          ],
          "name": "stdout"
        },
        {
          "output_type": "display_data",
          "data": {
            "image/png": "[encoded data removed]",
            "text/plain": [
              "<Figure size 432x288 with 2 Axes>"
            ]
          },
          "metadata": {
            "tags": [],
            "needs_background": "light"
          }
        },
        {
          "output_type": "stream",
          "text": [
            "              precision    recall  f1-score   support\n",
            "\n",
            "  Versicolor       0.90      0.95      0.92        37\n",
            "   Virginica       0.94      0.89      0.92        38\n",
            "\n",
            "    accuracy                           0.92        75\n",
            "   macro avg       0.92      0.92      0.92        75\n",
            "weighted avg       0.92      0.92      0.92        75\n",
            "\n",
            "----------- Modelo: Regressão -----------\n"
          ],
          "name": "stdout"
        },
        {
          "output_type": "display_data",
          "data": {
            "image/png": "[encoded data removed]",
            "text/plain": [
              "<Figure size 432x288 with 2 Axes>"
            ]
          },
          "metadata": {
            "tags": [],
            "needs_background": "light"
          }
        },
        {
          "output_type": "stream",
          "text": [
            "              precision    recall  f1-score   support\n",
            "\n",
            "  Versicolor       0.94      0.92      0.93        37\n",
            "   Virginica       0.92      0.95      0.94        38\n",
            "\n",
            "    accuracy                           0.93        75\n",
            "   macro avg       0.93      0.93      0.93        75\n",
            "weighted avg       0.93      0.93      0.93        75\n",
            "\n",
            "----------- Modelo: Tree -----------\n"
          ],
          "name": "stdout"
        },
        {
          "output_type": "display_data",
          "data": {
            "image/png": "[encoded data removed]",
            "text/plain": [
              "<Figure size 432x288 with 2 Axes>"
            ]
          },
          "metadata": {
            "tags": [],
            "needs_background": "light"
          }
        },
        {
          "output_type": "stream",
          "text": [
            "              precision    recall  f1-score   support\n",
            "\n",
            "  Versicolor       0.97      1.00      0.99        37\n",
            "   Virginica       1.00      0.97      0.99        38\n",
            "\n",
            "    accuracy                           0.99        75\n",
            "   macro avg       0.99      0.99      0.99        75\n",
            "weighted avg       0.99      0.99      0.99        75\n",
            "\n"
          ],
          "name": "stdout"
        }
      ]
    }
  ]
}